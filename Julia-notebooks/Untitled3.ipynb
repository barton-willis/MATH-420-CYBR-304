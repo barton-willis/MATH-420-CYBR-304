{
 "cells": [
  {
   "cell_type": "code",
   "execution_count": null,
   "id": "eeec3a23-3840-4e48-829e-af63f754c883",
   "metadata": {},
   "outputs": [],
   "source": []
  }
 ],
 "metadata": {
  "kernelspec": {
   "display_name": "Julia 1.10.0",
   "language": "julia",
   "name": "julia-1.10"
  },
  "language_info": {
   "file_extension": ".jl",
   "mimetype": "application/julia",
   "name": "julia",
   "version": "1.10.0"
  }
 },
 "nbformat": 4,
 "nbformat_minor": 5
}
