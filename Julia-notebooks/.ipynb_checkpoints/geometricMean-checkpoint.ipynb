{
 "cells": [
  {
   "cell_type": "markdown",
   "id": "3d3454fd",
   "metadata": {},
   "source": [
    " ### Geometric mean\n",
    "\n",
    "The _geometric mean_ $GM$ of nonnegative numbers $x_1, x_2, \\dots x_n$ is the nth root of their product.  Specifically\n",
    "$$\n",
    "   GM(x_1, x_2, \\dots x_n) = \\left( \\prod_{k=1}^n x_k \\right)^{1/n}\n",
    "$$\n",
    "\n",
    "One property of the geometric mean is that for all nonnegative numbers $x$, we have $GM(x,x) = x$ is an identity. \n",
    "\n",
    "Another property of the geometric mean is that any one of the numbers $x_1, x_2, \\dots x_n$ is zero, then the geometric mean of these numbers is zero.\n",
    "\n",
    "Our first effort for a Julia function for the geometric mean is little more than a direct translation of the definition.\n",
    "The Julia function `prod` returns the product of the members of an array."
   ]
  },
  {
   "cell_type": "code",
   "execution_count": 1,
   "id": "d3f51ce6",
   "metadata": {},
   "outputs": [
    {
     "data": {
      "text/plain": [
       "geometricMean_0 (generic function with 1 method)"
      ]
     },
     "execution_count": 1,
     "metadata": {},
     "output_type": "execute_result"
    }
   ],
   "source": [
    "function geometricMean_0(a)\n",
    "    prod(a)^(1/length(a))  \n",
    "end"
   ]
  },
  {
   "cell_type": "markdown",
   "id": "85cdbc82",
   "metadata": {},
   "source": [
    "Two simple tests show that our function works OK"
   ]
  },
  {
   "cell_type": "code",
   "execution_count": 2,
   "id": "50b785c3",
   "metadata": {},
   "outputs": [
    {
     "data": {
      "text/plain": [
       "(13.416407864998739, 13.416407864998739)"
      ]
     },
     "execution_count": 2,
     "metadata": {},
     "output_type": "execute_result"
    }
   ],
   "source": [
    "(geometricMean_0([4,45]), sqrt(4*45))"
   ]
  },
  {
   "cell_type": "code",
   "execution_count": 3,
   "id": "cd55fbb6",
   "metadata": {},
   "outputs": [
    {
     "data": {
      "text/plain": [
       "(2.2133638394006434, 2.2133638394006434)"
      ]
     },
     "execution_count": 3,
     "metadata": {},
     "output_type": "execute_result"
    }
   ],
   "source": [
    "(geometricMean_0([1,2,3,4]), (1*2*3*4)^(1/4))"
   ]
  },
  {
   "cell_type": "code",
   "execution_count": 4,
   "id": "10447c0b",
   "metadata": {},
   "outputs": [
    {
     "data": {
      "text/plain": [
       "(0.0, 0.0)"
      ]
     },
     "execution_count": 4,
     "metadata": {},
     "output_type": "execute_result"
    }
   ],
   "source": [
    "(geometricMean_0([0,1,2,3,4]), (0*1*2*3*4)^(1/5))"
   ]
  },
  {
   "cell_type": "markdown",
   "id": "8f61f842",
   "metadata": {},
   "source": [
    "But a bit more testing shows that our code can overflow giving suboptimal results; for example"
   ]
  },
  {
   "cell_type": "code",
   "execution_count": 5,
   "id": "19f15af9",
   "metadata": {},
   "outputs": [
    {
     "data": {
      "text/plain": [
       "Inf"
      ]
     },
     "execution_count": 5,
     "metadata": {},
     "output_type": "execute_result"
    }
   ],
   "source": [
    "geometricMean_0([1.0e155, 1.0e155])"
   ]
  },
  {
   "cell_type": "markdown",
   "id": "1f1af6d0",
   "metadata": {},
   "source": [
    "This result violates the identity $GM(x,x) = x$.  We really should do better.  A typical way to fix this overflow\n",
    "problem is to use the fact that the logarithm of a product of positive numbers is the sum of the logarithms.  This \n",
    "gives an alternative formula for the geometric sum\n",
    "$$\n",
    "   GM(x_1, x_2, \\dots x_n) = \\exp(\\frac{1}{n}  \\left( \\sum_{k=1}^n \\ln(x_k) \\right))\n",
    "$$\n",
    "A simple implementation of this method is"
   ]
  },
  {
   "cell_type": "code",
   "execution_count": 1,
   "id": "9e5ea4c5",
   "metadata": {},
   "outputs": [
    {
     "data": {
      "text/plain": [
       "geometricMean_1 (generic function with 1 method)"
      ]
     },
     "execution_count": 1,
     "metadata": {},
     "output_type": "execute_result"
    }
   ],
   "source": [
    "function geometricMean_1(a)\n",
    "    exp(sum(map(log,a))/length(a))\n",
    "end"
   ]
  },
  {
   "cell_type": "markdown",
   "id": "9d3b74f6",
   "metadata": {},
   "source": [
    "In Julia `log` is the natural logarithm. Many computer languages use `ln` for the natural logarithm. The Julia function `map` applies a function to each member of an array and the Julia function `sum` adds the members of an array. Finally,\n",
    "`exp` is the natural exponential function."
   ]
  },
  {
   "cell_type": "code",
   "execution_count": 3,
   "id": "b9bdb3be",
   "metadata": {},
   "outputs": [
    {
     "ename": "DomainError",
     "evalue": "DomainError with -4.0:\nlog will only return a complex result if called with a complex argument. Try log(Complex(x)).",
     "output_type": "error",
     "traceback": [
      "DomainError with -4.0:\nlog will only return a complex result if called with a complex argument. Try log(Complex(x)).",
      "",
      "Stacktrace:",
      " [1] throw_complex_domainerror(::Symbol, ::Float64) at .\\math.jl:31",
      " [2] log(::Float64) at .\\special\\log.jl:285",
      " [3] iterate at .\\special\\log.jl:395 [inlined]",
      " [4] _collect(::Array{Int64,1}, ::Base.Generator{Array{Int64,1},typeof(log)}, ::Base.EltypeUnknown, ::Base.HasShape{1}) at .\\array.jl:619",
      " [5] collect_similar at .\\array.jl:548 [inlined]",
      " [6] map at .\\abstractarray.jl:2018 [inlined]",
      " [7] geometricMean_1(::Array{Int64,1}) at .\\In[1]:2",
      " [8] top-level scope at In[3]:1"
     ]
    }
   ],
   "source": [
    "(geometricMean_1([4,45]), sqrt(4*45))"
   ]
  },
  {
   "cell_type": "code",
   "execution_count": 8,
   "id": "f9ec82da",
   "metadata": {},
   "outputs": [
    {
     "data": {
      "text/plain": [
       "(2.213363839400643, 2.2133638394006434)"
      ]
     },
     "execution_count": 8,
     "metadata": {},
     "output_type": "execute_result"
    }
   ],
   "source": [
    "(geometricMean_1([1,2,3,4]), (1*2*3*4)^(1/4))"
   ]
  },
  {
   "cell_type": "markdown",
   "id": "e37e93f2",
   "metadata": {},
   "source": [
    "We have resolved the overflow problem, but arguably our function isn't as accurate as it might be"
   ]
  },
  {
   "cell_type": "code",
   "execution_count": 9,
   "id": "47f8d342",
   "metadata": {},
   "outputs": [
    {
     "data": {
      "text/plain": [
       "9.999999999999973e154"
      ]
     },
     "execution_count": 9,
     "metadata": {},
     "output_type": "execute_result"
    }
   ],
   "source": [
    "geometricMean_1([1.0e155, 1.0e155])"
   ]
  },
  {
   "cell_type": "raw",
   "id": "b522abd4",
   "metadata": {},
   "source": [
    "Because $\\log(0)$ is undefined, you might think that `geometricMean_1` misbehaves when one or more argument is zero, but it \n",
    "doesn't"
   ]
  },
  {
   "cell_type": "code",
   "execution_count": 10,
   "id": "2d3578bb",
   "metadata": {},
   "outputs": [
    {
     "data": {
      "text/plain": [
       "0.0"
      ]
     },
     "execution_count": 10,
     "metadata": {},
     "output_type": "execute_result"
    }
   ],
   "source": [
    "geometricMean_1([0,1,2,3])"
   ]
  },
  {
   "cell_type": "markdown",
   "id": "485edb72",
   "metadata": {},
   "source": [
    "To see what happens, we can work through the calculation one step at a time"
   ]
  },
  {
   "cell_type": "code",
   "execution_count": 11,
   "id": "45618103",
   "metadata": {},
   "outputs": [
    {
     "data": {
      "text/plain": [
       "4-element Vector{Float64}:\n",
       " -Inf\n",
       "   0.0\n",
       "   0.6931471805599453\n",
       "   1.0986122886681098"
      ]
     },
     "execution_count": 11,
     "metadata": {},
     "output_type": "execute_result"
    }
   ],
   "source": [
    "x = map(log,[0,1,2,3])"
   ]
  },
  {
   "cell_type": "code",
   "execution_count": 12,
   "id": "24557683",
   "metadata": {},
   "outputs": [
    {
     "data": {
      "text/plain": [
       "-Inf"
      ]
     },
     "execution_count": 12,
     "metadata": {},
     "output_type": "execute_result"
    }
   ],
   "source": [
    "x = sum(x)"
   ]
  },
  {
   "cell_type": "code",
   "execution_count": 13,
   "id": "ecec0e58",
   "metadata": {},
   "outputs": [
    {
     "data": {
      "text/plain": [
       "-Inf"
      ]
     },
     "execution_count": 13,
     "metadata": {},
     "output_type": "execute_result"
    }
   ],
   "source": [
    "x = x/4"
   ]
  },
  {
   "cell_type": "code",
   "execution_count": 14,
   "id": "72d8f1ff",
   "metadata": {},
   "outputs": [
    {
     "data": {
      "text/plain": [
       "0.0"
      ]
     },
     "execution_count": 14,
     "metadata": {},
     "output_type": "execute_result"
    }
   ],
   "source": [
    "exp(x)"
   ]
  },
  {
   "cell_type": "markdown",
   "id": "e5c55d0a",
   "metadata": {},
   "source": [
    "In Julia `log(0) = -Inf` and `exp(-Inf) = 0`."
   ]
  },
  {
   "cell_type": "markdown",
   "id": "4c5a4fd3",
   "metadata": {},
   "source": [
    "For an array with many elements, computing the logarithm is a bit spendy. Can we avoid overflow without using the \n",
    "logarithm trick? Sure, we'll just loop through the array members and after each partial product, we'll extract\n",
    "the exponent and the significand of the partial product.  We'll keep a running sum of the exponent as a 64 bit integer."
   ]
  },
  {
   "cell_type": "code",
   "execution_count": 15,
   "id": "bebbe640",
   "metadata": {},
   "outputs": [
    {
     "data": {
      "text/plain": [
       "geometricMean2 (generic function with 1 method)"
      ]
     },
     "execution_count": 15,
     "metadata": {},
     "output_type": "execute_result"
    }
   ],
   "source": [
    "function geometricMean2(a::Array)\n",
    "    e = Int64(0)\n",
    "    s = one(a[1])\n",
    "    for x in a\n",
    "        s *= x\n",
    "        e += exponent(s)\n",
    "        s = significand(s)\n",
    "     end\n",
    "    n = length(a)\n",
    "    2.0^(e/n) * s^(1/n)\n",
    "end\n",
    "    "
   ]
  },
  {
   "cell_type": "markdown",
   "id": "36fc2a2f",
   "metadata": {},
   "source": [
    "Simple checks for overflow"
   ]
  },
  {
   "cell_type": "code",
   "execution_count": 16,
   "id": "bc0790bc",
   "metadata": {},
   "outputs": [
    {
     "data": {
      "text/plain": [
       "2.154434690031827e154"
      ]
     },
     "execution_count": 16,
     "metadata": {},
     "output_type": "execute_result"
    }
   ],
   "source": [
    "geometricMean2([1.0e155, 1.0e154,1.0e154])"
   ]
  },
  {
   "cell_type": "code",
   "execution_count": 17,
   "id": "042e75d8",
   "metadata": {},
   "outputs": [
    {
     "data": {
      "text/plain": [
       "1.0e308"
      ]
     },
     "execution_count": 17,
     "metadata": {},
     "output_type": "execute_result"
    }
   ],
   "source": [
    "geometricMean2([1.0e308, 1.0e308, 1.0e308])"
   ]
  },
  {
   "cell_type": "code",
   "execution_count": 18,
   "id": "81f046c0",
   "metadata": {},
   "outputs": [
    {
     "data": {
      "text/plain": [
       "0.0"
      ]
     },
     "execution_count": 18,
     "metadata": {},
     "output_type": "execute_result"
    }
   ],
   "source": [
    "geometricMean_1([0,1,2,3])"
   ]
  },
  {
   "cell_type": "raw",
   "id": "418892f0",
   "metadata": {},
   "source": [
    "There is a standard Julia package that has code for the geometric mean.  To use it, we need to use the package\n",
    "manager to download and install it:"
   ]
  },
  {
   "cell_type": "code",
   "execution_count": 19,
   "id": "420d7ff8",
   "metadata": {},
   "outputs": [],
   "source": [
    "import Pkg"
   ]
  },
  {
   "cell_type": "code",
   "execution_count": 20,
   "id": "b9cab2ce",
   "metadata": {},
   "outputs": [
    {
     "name": "stderr",
     "output_type": "stream",
     "text": [
      "\u001b[32m\u001b[1m   Resolving\u001b[22m\u001b[39m package versions...\n",
      "\u001b[32m\u001b[1m  No Changes\u001b[22m\u001b[39m to `C:\\Users\\willisb\\.julia\\environments\\v1.10\\Project.toml`\n",
      "\u001b[32m\u001b[1m  No Changes\u001b[22m\u001b[39m to `C:\\Users\\willisb\\.julia\\environments\\v1.10\\Manifest.toml`\n"
     ]
    }
   ],
   "source": [
    "Pkg.add(\"StatsBase\")"
   ]
  },
  {
   "cell_type": "markdown",
   "id": "5bae6b93",
   "metadata": {},
   "source": [
    "Once we have downloaded and installed this package, we don't need to do these steps again. All we need to is to load\n",
    "the package:"
   ]
  },
  {
   "cell_type": "code",
   "execution_count": 21,
   "id": "ef7ab8f8",
   "metadata": {},
   "outputs": [],
   "source": [
    "using StatsBase"
   ]
  },
  {
   "cell_type": "raw",
   "id": "a4eb9656",
   "metadata": {},
   "source": [
    "Let's run a race between them--try a ten-million element array of random numbers. Julia has a just in time compiler, \n",
    "so the first time we run the code, it's slow because the Julia complier has to be used. After that, it should be fast"
   ]
  },
  {
   "cell_type": "code",
   "execution_count": 22,
   "id": "da9e1b15",
   "metadata": {},
   "outputs": [],
   "source": [
    "L = rand(Float64,10^7);"
   ]
  },
  {
   "cell_type": "code",
   "execution_count": 23,
   "id": "0f6fe138",
   "metadata": {},
   "outputs": [
    {
     "name": "stdout",
     "output_type": "stream",
     "text": [
      "  0.033825 seconds (1 allocation: 16 bytes)\n"
     ]
    },
    {
     "data": {
      "text/plain": [
       "0.3679772281653708"
      ]
     },
     "execution_count": 23,
     "metadata": {},
     "output_type": "execute_result"
    }
   ],
   "source": [
    "@time x = geometricMean2(L)"
   ]
  },
  {
   "cell_type": "code",
   "execution_count": 24,
   "id": "85319a6a",
   "metadata": {},
   "outputs": [
    {
     "name": "stdout",
     "output_type": "stream",
     "text": [
      "  0.034154 seconds (1 allocation: 16 bytes)\n"
     ]
    },
    {
     "data": {
      "text/plain": [
       "0.3679772281653708"
      ]
     },
     "execution_count": 24,
     "metadata": {},
     "output_type": "execute_result"
    }
   ],
   "source": [
    "@time x = geometricMean2(L)"
   ]
  },
  {
   "cell_type": "code",
   "execution_count": 25,
   "id": "e174f24c",
   "metadata": {},
   "outputs": [
    {
     "name": "stdout",
     "output_type": "stream",
     "text": [
      "  0.164373 seconds (48.63 k allocations: 3.326 MiB, 46.59% compilation time)\n"
     ]
    },
    {
     "data": {
      "text/plain": [
       "0.3679772281653709"
      ]
     },
     "execution_count": 25,
     "metadata": {},
     "output_type": "execute_result"
    }
   ],
   "source": [
    "@time y = geomean(L)"
   ]
  },
  {
   "cell_type": "code",
   "execution_count": 26,
   "id": "810e7a78",
   "metadata": {},
   "outputs": [
    {
     "name": "stdout",
     "output_type": "stream",
     "text": [
      "  0.086302 seconds (1 allocation: 16 bytes)\n"
     ]
    },
    {
     "data": {
      "text/plain": [
       "0.3679772281653709"
      ]
     },
     "execution_count": 26,
     "metadata": {},
     "output_type": "execute_result"
    }
   ],
   "source": [
    "@time y = geomean(L)"
   ]
  }
 ],
 "metadata": {
  "kernelspec": {
   "display_name": "Julia 1.1.0",
   "language": "julia",
   "name": "julia-1.1"
  },
  "language_info": {
   "file_extension": ".jl",
   "mimetype": "application/julia",
   "name": "julia",
   "version": "1.1.0"
  }
 },
 "nbformat": 4,
 "nbformat_minor": 5
}
