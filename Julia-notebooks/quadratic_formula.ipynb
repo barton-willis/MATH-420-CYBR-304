{
 "cells": [
  {
   "cell_type": "raw",
   "metadata": {},
   "source": [
    "# Quadratic Formula\n",
    "CYBR 304 & MATH 420 <br>\n",
    "_Spring 2024_ <br>\n",
    "\n",
    "Let's write a Julia function that finds the roots of a quadratic equation; easy-peasy right? Wrong.  \n",
    "\n",
    "We start with the formula that we all know and love; that is \n",
    "$$\n",
    "  \\frac{-b \\pm \\sqrt{d}}{2 a},\n",
    "$$\n",
    "where $d = \\sqrt{b^2 - 4 a c}$.  Translating that into a Julia function, we have\n"
   ]
  },
  {
   "cell_type": "code",
   "execution_count": 2,
   "metadata": {},
   "outputs": [
    {
     "data": {
      "text/plain": [
       "solve_quadratic1 (generic function with 1 method)"
      ]
     },
     "execution_count": 2,
     "metadata": {},
     "output_type": "execute_result"
    }
   ],
   "source": [
    "function solve_quadratic1(a,b,c)\n",
    "    d = sqrt(b^2 - 4*a*c)\n",
    "    (-b + d)/(2*a), (-b - d)/(2*a)\n",
    "end   "
   ]
  },
  {
   "cell_type": "raw",
   "metadata": {},
   "source": [
    "Possibly we should special case $a = 0$ so that we don't divide by zero, but we'll leave that for another day.\n",
    "\n",
    "To test our code, let's _manufacture_ a second degree polynomial with known roots; say the solutions are $r_1$  and $1/r_1$, where"
   ]
  },
  {
   "cell_type": "code",
   "execution_count": 3,
   "metadata": {},
   "outputs": [
    {
     "data": {
      "text/plain": [
       "8.0e7"
      ]
     },
     "execution_count": 3,
     "metadata": {},
     "output_type": "execute_result"
    }
   ],
   "source": [
    "r1 = 8.0e7"
   ]
  },
  {
   "cell_type": "code",
   "execution_count": 4,
   "metadata": {},
   "outputs": [
    {
     "data": {
      "text/plain": [
       "1.25e-8"
      ]
     },
     "execution_count": 4,
     "metadata": {},
     "output_type": "execute_result"
    }
   ],
   "source": [
    "r2 = 1/r1"
   ]
  },
  {
   "cell_type": "markdown",
   "metadata": {},
   "source": [
    "Expanding $(x - r_1) (x - r_2) = x^2 - (r_1+r_2) x + r_1 r_2$, we see the coefficients are"
   ]
  },
  {
   "cell_type": "code",
   "execution_count": 6,
   "metadata": {},
   "outputs": [
    {
     "data": {
      "text/plain": [
       "(1, -8.000000000000001e7, 1.0)"
      ]
     },
     "execution_count": 6,
     "metadata": {},
     "output_type": "execute_result"
    }
   ],
   "source": [
    "(a,b,c) = (1,-r1-r2,r1*r2)"
   ]
  },
  {
   "cell_type": "markdown",
   "metadata": {},
   "source": [
    "The solutions are"
   ]
  },
  {
   "cell_type": "code",
   "execution_count": 8,
   "metadata": {},
   "outputs": [
    {
     "data": {
      "text/plain": [
       "(8.0e7, 1.4901161193847656e-8)"
      ]
     },
     "execution_count": 8,
     "metadata": {},
     "output_type": "execute_result"
    }
   ],
   "source": [
    "solve_quadratic1(a,b,c)"
   ]
  },
  {
   "cell_type": "markdown",
   "metadata": {},
   "source": [
    "One solution is $8.00 \\times 10^7$ as it should be, but the other solution should be  $1.25 \\times 10^{-8}$, but we get $1.4901161193847656 \\times 10^{-8}$. Oh, that's _terrible_.  What has happended?  Apparently, our calculation has been corrupted by subtractive cancellation. When $b > 0$ and $b^2 \\gg 4 a c$, we have $\\sqrt{b^2 - 4 a c} \\approx b$. And that makes the addition in $-b + \\sqrt{b^2 - 4 a c}$ ill conditioned.\n",
    "\n",
    "Fortunately, there is a cure. There is a lesser-known variant of the quadratic formula that puts the radical in the demonominator. Specifically,\n",
    "$$\n",
    " -b \\pm \\sqrt{d}  =  -b \\pm \\sqrt{d} \\times \\frac{ -b \\mp \\sqrt{d}}{ -b \\mp \\sqrt{d}} = \\frac{b^2  -  d}{ -b \\mp \\sqrt{d}}\n",
    "   = \\frac{4 a c}{ -b \\mp \\sqrt{d}}.\n",
    "$$\n",
    "\n",
    "\n",
    "Using the alternative quadratic formula with the radicals in the denominator, our function is"
   ]
  },
  {
   "cell_type": "code",
   "execution_count": 10,
   "metadata": {},
   "outputs": [
    {
     "data": {
      "text/plain": [
       "solve_quadratic2 (generic function with 1 method)"
      ]
     },
     "execution_count": 10,
     "metadata": {},
     "output_type": "execute_result"
    }
   ],
   "source": [
    "function solve_quadratic2(a,b,c)\n",
    "    d = sqrt(b^2 - 4*a*c)\n",
    "    2*c/(-b - d), 2*c/(-b + d)\n",
    "end   "
   ]
  },
  {
   "cell_type": "markdown",
   "metadata": {},
   "source": [
    "This time we get an accurate value for $1.25 \\times 10^{-8}$, but not for the root $8.0 \\times 10^{7}$. This is very perverse-both methods give _one_ inaccurate result"
   ]
  },
  {
   "cell_type": "code",
   "execution_count": 12,
   "metadata": {},
   "outputs": [
    {
     "data": {
      "text/plain": [
       "(6.7108864e7, 1.25e-8)"
      ]
     },
     "execution_count": 12,
     "metadata": {},
     "output_type": "execute_result"
    }
   ],
   "source": [
    "solve_quadratic2(a,b,c)"
   ]
  },
  {
   "cell_type": "markdown",
   "metadata": {},
   "source": [
    "The problem is with an ill-conditioned sum $-b + d$ or $-b - d$. Since $d$ is positive (it's the output of a square root), the sum\n",
    "$-b + d$ is possibly ill-conditioned when $b > 0$. And when $b < 0$, the sum $-b - d$ is possibly ill-conditioned. \n",
    "\n",
    "To simplify the logic, let's negate all the coefficients when $b < 0$. After that we know that $b$ is positive, so the sum $-b - d$ is well-conditioned. This gives"
   ]
  },
  {
   "cell_type": "code",
   "execution_count": 14,
   "metadata": {},
   "outputs": [
    {
     "data": {
      "text/plain": [
       "solve_quadratic3 (generic function with 1 method)"
      ]
     },
     "execution_count": 14,
     "metadata": {},
     "output_type": "execute_result"
    }
   ],
   "source": [
    "function solve_quadratic3(a,b,c)\n",
    "    if b < 0 (a,b,c) = (-a,-b,-c) end #now b > 0\n",
    "    d = sqrt(b^2 - 4*a*c)\n",
    "    (-b - d)/(2*a), 2*c/(-b-d) # all sums well conditioned\n",
    "end   "
   ]
  },
  {
   "cell_type": "markdown",
   "metadata": {},
   "source": [
    "Now both roots are accurate!"
   ]
  },
  {
   "cell_type": "code",
   "execution_count": 16,
   "metadata": {},
   "outputs": [
    {
     "data": {
      "text/plain": [
       "(8.0e7, 1.25e-8)"
      ]
     },
     "execution_count": 16,
     "metadata": {},
     "output_type": "execute_result"
    }
   ],
   "source": [
    " solve_quadratic3(a,b,c)"
   ]
  },
  {
   "cell_type": "markdown",
   "metadata": {},
   "source": [
    "Should we declare victory? No way. Our function `solve_quadratic3` can suffer from subtractive cancellation when it computes the discriminant $b^2 - 4ac$.  Here is an example that is due to William Kahn (https://people.eecs.berkeley.edu/%7Ewkahan/Qdrtcs.pdf)."
   ]
  },
  {
   "cell_type": "code",
   "execution_count": 18,
   "metadata": {},
   "outputs": [
    {
     "data": {
      "text/plain": [
       "(9.4906265625e7, -1.89812534e8, 9.4906268375e7)"
      ]
     },
     "execution_count": 18,
     "metadata": {},
     "output_type": "execute_result"
    }
   ],
   "source": [
    "(a,b,c) = (94906265.625, -2.0 * 94906267.000,94906268.375)"
   ]
  },
  {
   "cell_type": "raw",
   "metadata": {},
   "source": [
    "Using floating point numbers, the discriminant vanishes:"
   ]
  },
  {
   "cell_type": "code",
   "execution_count": 19,
   "metadata": {},
   "outputs": [
    {
     "data": {
      "text/plain": [
       "0.0"
      ]
     },
     "execution_count": 19,
     "metadata": {},
     "output_type": "execute_result"
    }
   ],
   "source": [
    "b*b - 4*a*c"
   ]
  },
  {
   "cell_type": "markdown",
   "metadata": {},
   "source": [
    "So `solve_quadratic3` gives two roots that are nearly identical"
   ]
  },
  {
   "cell_type": "code",
   "execution_count": 21,
   "metadata": {},
   "outputs": [
    {
     "data": {
      "text/plain": [
       "(1.0000000144879793, 1.000000014487979)"
      ]
     },
     "execution_count": 21,
     "metadata": {},
     "output_type": "execute_result"
    }
   ],
   "source": [
    " (r1,r2) = solve_quadratic3(a,b,c)"
   ]
  },
  {
   "cell_type": "markdown",
   "metadata": {},
   "source": [
    "Let's convert $a,b$ and $c$ to big floats and re-compute the roots:"
   ]
  },
  {
   "cell_type": "code",
   "execution_count": 23,
   "metadata": {},
   "outputs": [],
   "source": [
    "(aa,bb,cc) = map(x -> convert(BigFloat,x), (a,b,c));"
   ]
  },
  {
   "cell_type": "code",
   "execution_count": 24,
   "metadata": {},
   "outputs": [
    {
     "data": {
      "text/plain": [
       "(1.000000028975958351011137469355042911583320450556396022983861872923629745862732, 1.0)"
      ]
     },
     "execution_count": 24,
     "metadata": {},
     "output_type": "execute_result"
    }
   ],
   "source": [
    "(rr1, rr2) = solve_quadratic3(aa,bb,cc)"
   ]
  },
  {
   "cell_type": "markdown",
   "metadata": {},
   "source": [
    "According to this, only about 8 of 16 digits of the roots computed using `Float64` numbers are correct"
   ]
  },
  {
   "cell_type": "code",
   "execution_count": 26,
   "metadata": {},
   "outputs": [
    {
     "data": {
      "text/plain": [
       "-1.448797909027560902762695018153800184704077102298386187292362974586273239852133e-08"
      ]
     },
     "execution_count": 26,
     "metadata": {},
     "output_type": "execute_result"
    }
   ],
   "source": [
    "r1-rr1"
   ]
  },
  {
   "cell_type": "code",
   "execution_count": 27,
   "metadata": {},
   "outputs": [
    {
     "data": {
      "text/plain": [
       "1.44879790386909235166967846453189849853515625e-08"
      ]
     },
     "execution_count": 27,
     "metadata": {},
     "output_type": "execute_result"
    }
   ],
   "source": [
    "r2-rr2"
   ]
  },
  {
   "cell_type": "markdown",
   "metadata": {},
   "source": [
    "Is there a cure? Well, yes, one cure is to convert to numbers of the type `BigFloat.` Is there a cure that only uses numbers of the type `Float64?`  Yes there is--it involves a tricky use of the `fma` function. The method can be found in the article by Claude-Pierre Jeannerod, Nicolas Louvet, and Jean-Michel Muller (https://hal.inria.fr/ensl-00649347/en). But we won't go into this method."
   ]
  },
  {
   "cell_type": "markdown",
   "metadata": {},
   "source": [
    "The quadratic formula is a very famous example of an ill-conditioned sum (aka subtractive cancellation); for references, see, for example\n",
    "\n",
    " -  https://en.wikipedia.org wiki/Quadratic_equation#Avoiding_loss_of_significance. \n",
    "\n",
    "-  http://i.stanford.edu/pub/cstr/reports/cs/tr/66/40/CS-TR-66-40.pdf\n",
    "\n",
    "\n",
    "As we have observed, there are additional problems when computing $b^2 - 4ac$ is ill-conditioned.\n",
    "\n",
    "What about solving a cubic?  The solutions to $x^3 + b x^2 + c x + d = 0$ are\n",
    "\n",
    "$$\\left[ x=\\left({{-1}\\over{2}}-{{\\sqrt{3}\\,i}\\over{2}}\\right)\\,\n",
    " \\left({{\\sqrt{27\\,d^2+\\left(4\\,b^3-18\\,b\\,c\\right)\\,d+4\\,c^3-b^2\\,c^\n",
    " 2}}\\over{2\\,3^{{{3}\\over{2}}}}}+{{b\\,c-3\\,d}\\over{6}}+{{\\left(-1\n",
    " \\right)\\,b^3}\\over{27}}\\right)^{{{1}\\over{3}}}-{{\\left({{\\sqrt{3}\\,i\n",
    " }\\over{2}}+{{-1}\\over{2}}\\right)\\,\\left({{c}\\over{3}}+{{\\left(-1\n",
    " \\right)\\,b^2}\\over{9}}\\right)}\\over{\\left({{\\sqrt{27\\,d^2+\\left(4\\,b\n",
    " ^3-18\\,b\\,c\\right)\\,d+4\\,c^3-b^2\\,c^2}}\\over{2\\,3^{{{3}\\over{2}}}}}+\n",
    " {{b\\,c-3\\,d}\\over{6}}+{{\\left(-1\\right)\\,b^3}\\over{27}}\\right)^{{{1\n",
    " }\\over{3}}}}}+{{\\left(-1\\right)\\,b}\\over{3}} , x=\\left({{\\sqrt{3}\\,i\n",
    " }\\over{2}}+{{-1}\\over{2}}\\right)\\,\\left({{\\sqrt{27\\,d^2+\\left(4\\,b^3\n",
    " -18\\,b\\,c\\right)\\,d+4\\,c^3-b^2\\,c^2}}\\over{2\\,3^{{{3}\\over{2}}}}}+{{\n",
    " b\\,c-3\\,d}\\over{6}}+{{\\left(-1\\right)\\,b^3}\\over{27}}\\right)^{{{1\n",
    " }\\over{3}}}-{{\\left({{-1}\\over{2}}-{{\\sqrt{3}\\,i}\\over{2}}\\right)\\,\n",
    " \\left({{c}\\over{3}}+{{\\left(-1\\right)\\,b^2}\\over{9}}\\right)}\\over{\n",
    " \\left({{\\sqrt{27\\,d^2+\\left(4\\,b^3-18\\,b\\,c\\right)\\,d+4\\,c^3-b^2\\,c^\n",
    " 2}}\\over{2\\,3^{{{3}\\over{2}}}}}+{{b\\,c-3\\,d}\\over{6}}+{{\\left(-1\n",
    " \\right)\\,b^3}\\over{27}}\\right)^{{{1}\\over{3}}}}}+{{\\left(-1\\right)\\,\n",
    " b}\\over{3}} , x=\\left({{\\sqrt{27\\,d^2+\\left(4\\,b^3-18\\,b\\,c\\right)\\,\n",
    " d+4\\,c^3-b^2\\,c^2}}\\over{2\\,3^{{{3}\\over{2}}}}}+{{b\\,c-3\\,d}\\over{6\n",
    " }}+{{\\left(-1\\right)\\,b^3}\\over{27}}\\right)^{{{1}\\over{3}}}-{{{{c\n",
    " }\\over{3}}+{{\\left(-1\\right)\\,b^2}\\over{9}}}\\over{\\left({{\\sqrt{27\\,\n",
    " d^2+\\left(4\\,b^3-18\\,b\\,c\\right)\\,d+4\\,c^3-b^2\\,c^2}}\\over{2\\,3^{{{3\n",
    " }\\over{2}}}}}+{{b\\,c-3\\,d}\\over{6}}+{{\\left(-1\\right)\\,b^3}\\over{27\n",
    " }}\\right)^{{{1}\\over{3}}}}}+{{\\left(-1\\right)\\,b}\\over{3}} \\right] \n",
    " $$\n",
    " \n",
    "I doubt that anybody has ever figured out how to alter these solutions to make them safe for numerical evalution. If you need to solve a cubic equation numerically, the exact representations for the solutions is a _terrible_ option.\n"
   ]
  },
  {
   "cell_type": "code",
   "execution_count": null,
   "metadata": {},
   "outputs": [],
   "source": []
  }
 ],
 "metadata": {
  "kernelspec": {
   "display_name": "Julia 1.10.0",
   "language": "julia",
   "name": "julia-1.10"
  },
  "language_info": {
   "file_extension": ".jl",
   "mimetype": "application/julia",
   "name": "julia",
   "version": "1.10.0"
  }
 },
 "nbformat": 4,
 "nbformat_minor": 4
}
