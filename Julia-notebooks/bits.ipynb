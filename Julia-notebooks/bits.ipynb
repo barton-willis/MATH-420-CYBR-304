{
 "cells": [
  {
   "cell_type": "markdown",
   "metadata": {},
   "source": [
    "### Decimal to binary conversion\n",
    "\n",
    "For a positive real number `x` and an integer `n`, the function call `bits(x,n)` returns the exponent and the first `n` bits of a binary representation of `x`. \n",
    "\n",
    "We'll include a docstring on the function. In the final `while` loop, we want `b` to be an integer, not a floating point number. To tell `floor` to return an integer, not a float, we need to give `floor` a first argument of `Int`. "
   ]
  },
  {
   "cell_type": "code",
   "execution_count": 118,
   "metadata": {},
   "outputs": [
    {
     "data": {
      "text/plain": [
       "bits"
      ]
     },
     "execution_count": 118,
     "metadata": {},
     "output_type": "execute_result"
    }
   ],
   "source": [
    "\"\"\"\n",
    "    bits(x,n)\n",
    "\n",
    "Compute the sign bit, the base two exponent, and the first `b` bits of the binary representation of a number `x.` Return a \n",
    "tuple of the sign bit, the exponent, and the vector of its bits.\n",
    "#### Example\n",
    " ```julia-repl\n",
    "julia> bits(0.1,10)\n",
    "(0, -4, Any[1, 1, 0, 0, 1, 1, 0, 0, 1, 1])\n",
    "```\n",
    "The first returned value is the exponent and the second is a vectir of the bits.\n",
    "\"\"\"\n",
    " function bits(x,n)\n",
    "    \n",
    "    # first find the sign; we;ll say the sign of zero is 0 \n",
    "    if x < 0 \n",
    "        s = -1\n",
    "        x = -x\n",
    "    else \n",
    "        s = 0\n",
    "    end\n",
    "    \n",
    "    # second find the exponent; we'll do this first by multiplying and dividing by two until\n",
    "    # 1 <= x < 2. But x = 0 is a special case.\n",
    "    if x == 0\n",
    "        e = 0\n",
    "    else \n",
    "      e = 0\n",
    "      while x < 1 \n",
    "        e = e - 1\n",
    "        x = 2*x\n",
    "      end\n",
    "    \n",
    "      while x >= 2\n",
    "        e = e + 1\n",
    "        x = x/2\n",
    "     end\n",
    "    end\n",
    "    \n",
    "    \n",
    "    # finally find the bits\n",
    "    k = 0\n",
    "    L = []\n",
    "    while k < n \n",
    "        b = floor(Int, x)\n",
    "        push!(L,b)\n",
    "        x = 2*(x-b)\n",
    "        k = k + 1\n",
    "    end\n",
    "   return s, e, L\n",
    "end\n"
   ]
  },
  {
   "cell_type": "code",
   "execution_count": 119,
   "metadata": {},
   "outputs": [
    {
     "data": {
      "text/latex": [
       "\\begin{verbatim}\n",
       "bits(x,n)\n",
       "\\end{verbatim}\n",
       "Compute the sign bit, the base two exponent, and the first \\texttt{b} bits of the binary representation of a number \\texttt{x.} Return a  tuple of the sign bit, the exponent, and the vector of its bits.\n",
       "\n",
       "\\paragraph{Example}\n",
       "\\begin{verbatim}\n",
       "julia> bits(0.1,10)\n",
       "(0, -4, Any[1, 1, 0, 0, 1, 1, 0, 0, 1, 1])\n",
       "\\end{verbatim}\n",
       "The first returned value is the exponent and the second is a vectir of the bits.\n",
       "\n"
      ],
      "text/markdown": [
       "```\n",
       "bits(x,n)\n",
       "```\n",
       "\n",
       "Compute the sign bit, the base two exponent, and the first `b` bits of the binary representation of a number `x.` Return a  tuple of the sign bit, the exponent, and the vector of its bits.\n",
       "\n",
       "#### Example\n",
       "\n",
       "```julia-repl\n",
       "julia> bits(0.1,10)\n",
       "(0, -4, Any[1, 1, 0, 0, 1, 1, 0, 0, 1, 1])\n",
       "```\n",
       "\n",
       "The first returned value is the exponent and the second is a vectir of the bits.\n"
      ],
      "text/plain": [
       "\u001b[36m  bits(x,n)\u001b[39m\n",
       "\n",
       "  Compute the sign bit, the base two exponent, and the first \u001b[36mb\u001b[39m bits of the\n",
       "  binary representation of a number \u001b[36mx.\u001b[39m Return a tuple of the sign bit, the\n",
       "  exponent, and the vector of its bits.\n",
       "\n",
       "\u001b[1m  Example\u001b[22m\n",
       "\u001b[1m  ---------\u001b[22m\n",
       "\n",
       "\u001b[36m  julia> bits(0.1,10)\u001b[39m\n",
       "\u001b[36m  (0, -4, Any[1, 1, 0, 0, 1, 1, 0, 0, 1, 1])\u001b[39m\n",
       "\n",
       "  The first returned value is the exponent and the second is a vectir of the\n",
       "  bits."
      ]
     },
     "execution_count": 119,
     "metadata": {},
     "output_type": "execute_result"
    }
   ],
   "source": [
    "@doc bits"
   ]
  },
  {
   "cell_type": "code",
   "execution_count": 120,
   "metadata": {},
   "outputs": [
    {
     "data": {
      "text/plain": [
       "(0, -4, Any[1, 1, 0, 0, 1, 1, 0, 0, 1, 1])"
      ]
     },
     "execution_count": 120,
     "metadata": {},
     "output_type": "execute_result"
    }
   ],
   "source": [
    "xxx = bits(0.10,10)"
   ]
  },
  {
   "cell_type": "raw",
   "metadata": {},
   "source": [
    "When we write some code, what should we do? We should test it.  Let's write code that takes the binary representation and gives a decimal representation"
   ]
  },
  {
   "cell_type": "code",
   "execution_count": 121,
   "metadata": {},
   "outputs": [
    {
     "data": {
      "text/plain": [
       "binary_to_decimal"
      ]
     },
     "execution_count": 121,
     "metadata": {},
     "output_type": "execute_result"
    }
   ],
   "source": [
    "\"\"\"\n",
    "    binary_to_decimal(s, e, bits)\n",
    "Given the sign bit `s`, the binary exponent `e`, and a vector of its bits `bits`, return its decimal value\n",
    "#### Example\n",
    " ```julia-repl\n",
    "julia> binary_to_decimal(0,-3,[1, 0, 0, 0, 0, 0, 0, 0, 0, 0, 0, 0])\n",
    "0.125\n",
    "```\n",
    "\"\"\"\n",
    "function binary_to_decimal(s, e, bits)\n",
    "    q = 0\n",
    "    z = 1\n",
    "    for b in bits\n",
    "        q = q + b*z\n",
    "        z = z/2\n",
    "    end\n",
    "    if s == 1\n",
    "        q = -q\n",
    "    end\n",
    "    2.0^e * q\n",
    "end"
   ]
  },
  {
   "cell_type": "code",
   "execution_count": 122,
   "metadata": {},
   "outputs": [
    {
     "data": {
      "text/latex": [
       "\\begin{verbatim}\n",
       "binary_to_decimal(s, e, bits)\n",
       "\\end{verbatim}\n",
       "Given the sign bit \\texttt{s}, the binary exponent \\texttt{e}, and a vector of its bits \\texttt{bits}, return its decimal value\n",
       "\n",
       "\\paragraph{Example}\n",
       "\\begin{verbatim}\n",
       "julia> binary_to_decimal(0,-3,[1, 0, 0, 0, 0, 0, 0, 0, 0, 0, 0, 0])\n",
       "0.125\n",
       "\\end{verbatim}\n"
      ],
      "text/markdown": [
       "```\n",
       "binary_to_decimal(s, e, bits)\n",
       "```\n",
       "\n",
       "Given the sign bit `s`, the binary exponent `e`, and a vector of its bits `bits`, return its decimal value\n",
       "\n",
       "#### Example\n",
       "\n",
       "```julia-repl\n",
       "julia> binary_to_decimal(0,-3,[1, 0, 0, 0, 0, 0, 0, 0, 0, 0, 0, 0])\n",
       "0.125\n",
       "```\n"
      ],
      "text/plain": [
       "\u001b[36m  binary_to_decimal(s, e, bits)\u001b[39m\n",
       "\n",
       "  Given the sign bit \u001b[36ms\u001b[39m, the binary exponent \u001b[36me\u001b[39m, and a vector of its bits \u001b[36mbits\u001b[39m,\n",
       "  return its decimal value\n",
       "\n",
       "\u001b[1m  Example\u001b[22m\n",
       "\u001b[1m  ---------\u001b[22m\n",
       "\n",
       "\u001b[36m  julia> binary_to_decimal(0,-3,[1, 0, 0, 0, 0, 0, 0, 0, 0, 0, 0, 0])\u001b[39m\n",
       "\u001b[36m  0.125\u001b[39m"
      ]
     },
     "execution_count": 122,
     "metadata": {},
     "output_type": "execute_result"
    }
   ],
   "source": [
    "@doc binary_to_decimal"
   ]
  },
  {
   "cell_type": "code",
   "execution_count": 123,
   "metadata": {},
   "outputs": [
    {
     "data": {
      "text/plain": [
       "(0, -4, Any[1, 1, 0, 0, 1, 1, 0, 0, 1, 1, 0, 0])"
      ]
     },
     "execution_count": 123,
     "metadata": {},
     "output_type": "execute_result"
    }
   ],
   "source": [
    "xxx = bits(0.1, 12)\n"
   ]
  },
  {
   "cell_type": "code",
   "execution_count": 124,
   "metadata": {},
   "outputs": [
    {
     "data": {
      "text/plain": [
       "0.0999755859375"
      ]
     },
     "execution_count": 124,
     "metadata": {},
     "output_type": "execute_result"
    }
   ],
   "source": [
    "binary_to_decimal(xxx[1],xxx[2],xxx[3])"
   ]
  },
  {
   "cell_type": "markdown",
   "metadata": {},
   "source": [
    "We can call `binary_to_decimal` on the tuple `xxx` directly by \"slurping\""
   ]
  },
  {
   "cell_type": "code",
   "execution_count": 79,
   "metadata": {},
   "outputs": [
    {
     "data": {
      "text/plain": [
       "0.0999755859375"
      ]
     },
     "execution_count": 79,
     "metadata": {},
     "output_type": "execute_result"
    }
   ],
   "source": [
    "binary_to_decimal(xxx...)"
   ]
  },
  {
   "cell_type": "raw",
   "metadata": {},
   "source": [
    "If we want to use exact rational arithmetic, one way to do this is to use rational arithmetic when the exponent has type Rational. Fixing up our code gives"
   ]
  },
  {
   "cell_type": "code",
   "execution_count": 125,
   "metadata": {},
   "outputs": [
    {
     "data": {
      "text/plain": [
       "binary_to_decimal (generic function with 1 method)"
      ]
     },
     "execution_count": 125,
     "metadata": {},
     "output_type": "execute_result"
    }
   ],
   "source": [
    "function binary_to_decimal(s, e, bits)\n",
    "    q = 0//1\n",
    "    z = 1//1\n",
    "    for b in bits\n",
    "        q = q + b*z\n",
    "        z = z/2\n",
    "    end\n",
    "    if s == 1\n",
    "        q = -q\n",
    "    end\n",
    "    (2//1)^e * q\n",
    "end"
   ]
  },
  {
   "cell_type": "code",
   "execution_count": 126,
   "metadata": {},
   "outputs": [
    {
     "data": {
      "text/plain": [
       "819//8192"
      ]
     },
     "execution_count": 126,
     "metadata": {},
     "output_type": "execute_result"
    }
   ],
   "source": [
    "binary_to_decimal(xxx...)"
   ]
  },
  {
   "cell_type": "code",
   "execution_count": 127,
   "metadata": {},
   "outputs": [
    {
     "data": {
      "text/plain": [
       "(0, -4, Any[1, 1, 0, 0, 1, 1, 0, 0, 1, 1  …  0, 0, 1, 1, 0, 0, 1, 1, 0, 1])"
      ]
     },
     "execution_count": 127,
     "metadata": {},
     "output_type": "execute_result"
    }
   ],
   "source": [
    "xxx = bits(0.1, 52)"
   ]
  },
  {
   "cell_type": "code",
   "execution_count": 128,
   "metadata": {},
   "outputs": [
    {
     "data": {
      "text/plain": [
       "3602879701896397//36028797018963968"
      ]
     },
     "execution_count": 128,
     "metadata": {},
     "output_type": "execute_result"
    }
   ],
   "source": [
    "x = binary_to_decimal(xxx...)"
   ]
  },
  {
   "cell_type": "raw",
   "metadata": {},
   "source": [
    "Here is a shorter way to convert from binary to decimal. We use the function `evalpoly`. Here is a version that\n",
    "uses exact rational numbers."
   ]
  },
  {
   "cell_type": "code",
   "execution_count": 129,
   "metadata": {},
   "outputs": [
    {
     "data": {
      "text/plain": [
       "binary_to_decimal (generic function with 1 method)"
      ]
     },
     "execution_count": 129,
     "metadata": {},
     "output_type": "execute_result"
    }
   ],
   "source": [
    "function binary_to_decimal(s, e, bits) \n",
    "    (-1)^s * (2//1)^e * evalpoly(1//2,bits)\n",
    "end"
   ]
  },
  {
   "cell_type": "code",
   "execution_count": 130,
   "metadata": {},
   "outputs": [
    {
     "data": {
      "text/plain": [
       "3602879701896397//36028797018963968"
      ]
     },
     "execution_count": 130,
     "metadata": {},
     "output_type": "execute_result"
    }
   ],
   "source": [
    " binary_to_decimal(xxx...)"
   ]
  },
  {
   "cell_type": "markdown",
   "metadata": {},
   "source": [
    "For some fun, let's find various binary representations of the circular constant pi and convert to exact rational form"
   ]
  },
  {
   "cell_type": "code",
   "execution_count": 151,
   "metadata": {},
   "outputs": [
    {
     "data": {
      "text/plain": [
       "51471//16384"
      ]
     },
     "execution_count": 151,
     "metadata": {},
     "output_type": "execute_result"
    }
   ],
   "source": [
    " x16 =binary_to_decimal(bits(pi,16)...)"
   ]
  },
  {
   "cell_type": "code",
   "execution_count": 152,
   "metadata": {},
   "outputs": [
    {
     "data": {
      "text/plain": [
       "1686629713//536870912"
      ]
     },
     "execution_count": 152,
     "metadata": {},
     "output_type": "execute_result"
    }
   ],
   "source": [
    "x32 = binary_to_decimal(bits(pi,32)...)"
   ]
  },
  {
   "cell_type": "code",
   "execution_count": 153,
   "metadata": {},
   "outputs": [
    {
     "data": {
      "text/plain": [
       "884279719003555//281474976710656"
      ]
     },
     "execution_count": 153,
     "metadata": {},
     "output_type": "execute_result"
    }
   ],
   "source": [
    "x64 = binary_to_decimal(bits(pi,64)...)"
   ]
  },
  {
   "cell_type": "code",
   "execution_count": 154,
   "metadata": {},
   "outputs": [
    {
     "data": {
      "text/plain": [
       "884279719003555//281474976710656"
      ]
     },
     "execution_count": 154,
     "metadata": {},
     "output_type": "execute_result"
    }
   ],
   "source": [
    "x128 = binary_to_decimal(bits(pi,128)...)"
   ]
  },
  {
   "cell_type": "markdown",
   "metadata": {},
   "source": [
    "Let's look at the difference between these rational approximations to pi"
   ]
  },
  {
   "cell_type": "code",
   "execution_count": 159,
   "metadata": {},
   "outputs": [
    {
     "data": {
      "text/plain": [
       "4-element Vector{Float64}:\n",
       " -5.2126246043116e-5\n",
       " -1.2154188766544394e-10\n",
       "  0.0\n",
       "  0.0"
      ]
     },
     "execution_count": 159,
     "metadata": {},
     "output_type": "execute_result"
    }
   ],
   "source": [
    "[x16-pi,x32-pi,x64-pi,x128-pi]"
   ]
  },
  {
   "cell_type": "code",
   "execution_count": null,
   "metadata": {},
   "outputs": [],
   "source": []
  }
 ],
 "metadata": {
  "kernelspec": {
   "display_name": "Julia 1.8.2",
   "language": "julia",
   "name": "julia-1.8"
  },
  "language_info": {
   "file_extension": ".jl",
   "mimetype": "application/julia",
   "name": "julia",
   "version": "1.8.2"
  }
 },
 "nbformat": 4,
 "nbformat_minor": 2
}
