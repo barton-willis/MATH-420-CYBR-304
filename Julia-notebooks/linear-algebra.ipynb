{
 "cells": [
  {
   "cell_type": "markdown",
   "metadata": {},
   "source": [
    "## Linear Algebra: Solving equations\n",
    "__CYBR 304 & MATH 420__ <br>\n",
    "_Spring 2024_ <br>\n"
   ]
  },
  {
   "cell_type": "markdown",
   "metadata": {},
   "source": [
    "Let's solve a $3 \\times  3$ linear system of equations. The coefficient matrix is a Julia array. To enter the matrix by hand, we write the members of each row separated with spaces (_not_ commas) and separate each row with a semicolon. Our coefficient matrix is"
   ]
  },
  {
   "cell_type": "code",
   "execution_count": 1,
   "metadata": {},
   "outputs": [
    {
     "data": {
      "text/plain": [
       "3×3 Matrix{Int64}:\n",
       " 1  2   3\n",
       " 4  5   6\n",
       " 7  8  19"
      ]
     },
     "metadata": {},
     "output_type": "display_data"
    }
   ],
   "source": [
    "Mat = [1 2 3; 4 5 6; 7 8 19]"
   ]
  },
  {
   "cell_type": "markdown",
   "metadata": {},
   "source": [
    "Similarly, we can enter the right-hand side (RHS) by hand too. We'll assign `b` to the RHS."
   ]
  },
  {
   "cell_type": "code",
   "execution_count": 2,
   "metadata": {},
   "outputs": [
    {
     "data": {
      "text/plain": [
       "3-element Vector{Int64}:\n",
       "  2\n",
       "  5\n",
       " 10"
      ]
     },
     "metadata": {},
     "output_type": "display_data"
    }
   ],
   "source": [
    "b = [2; 5; 10]"
   ]
  },
  {
   "cell_type": "markdown",
   "metadata": {},
   "source": [
    "We can solve the linear equation `Mat x = b` with the backslash command"
   ]
  },
  {
   "cell_type": "code",
   "execution_count": 3,
   "metadata": {},
   "outputs": [
    {
     "data": {
      "text/plain": [
       "3-element Vector{Float64}:\n",
       " 0.19999999999999993\n",
       " 0.6000000000000002\n",
       " 0.19999999999999996"
      ]
     },
     "metadata": {},
     "output_type": "display_data"
    }
   ],
   "source": [
    "x  = Mat \\ b"
   ]
  },
  {
   "cell_type": "markdown",
   "metadata": {},
   "source": [
    "The result is a column vector of the solution.  \n",
    "\n",
    "Notice that the entries of both the coefficient matrix and the right-hand side are `Int64` numbers, but each member of the solution are `Float64` numbers.\n",
    "\n",
    "Let's check our work.  In Julia, the asterisk also means matrix multiplication. Let's find `b - Mat * x`. This difference is called the _residual_. For the true solution, the residual is the zero vector; let's check:"
   ]
  },
  {
   "cell_type": "code",
   "execution_count": 4,
   "metadata": {},
   "outputs": [
    {
     "data": {
      "text/plain": [
       "3-element Vector{Float64}:\n",
       " 0.0\n",
       " 0.0\n",
       " 0.0"
      ]
     },
     "metadata": {},
     "output_type": "display_data"
    }
   ],
   "source": [
    "b - Mat * x "
   ]
  },
  {
   "cell_type": "markdown",
   "metadata": {},
   "source": [
    "Super, the residual is the zero vector. Almost surely, the solution is correct.\n",
    "\n",
    "If we need to do exact rational arithmetic, we can do that. Actually, instead of using the default of `Int64` numbers, let's convert to `BigInt` numbers:"
   ]
  },
  {
   "cell_type": "code",
   "execution_count": 5,
   "metadata": {},
   "outputs": [
    {
     "data": {
      "text/plain": [
       "3×3 Matrix{Rational{BigInt}}:\n",
       " 1  2   3\n",
       " 4  5   6\n",
       " 7  8  19"
      ]
     },
     "metadata": {},
     "output_type": "display_data"
    }
   ],
   "source": [
    "Mat = map(x -> convert(BigInt, x)//1,Mat)"
   ]
  },
  {
   "cell_type": "code",
   "execution_count": 6,
   "metadata": {},
   "outputs": [
    {
     "data": {
      "text/plain": [
       "3-element Vector{Rational{BigInt}}:\n",
       "  2\n",
       "  5\n",
       " 10"
      ]
     },
     "metadata": {},
     "output_type": "display_data"
    }
   ],
   "source": [
    "b = map(x -> convert(BigInt, x) //1,b)"
   ]
  },
  {
   "cell_type": "code",
   "execution_count": 7,
   "metadata": {},
   "outputs": [
    {
     "data": {
      "text/plain": [
       "3-element Vector{Rational{BigInt}}:\n",
       " 1//5\n",
       " 3//5\n",
       " 1//5"
      ]
     },
     "metadata": {},
     "output_type": "display_data"
    }
   ],
   "source": [
    "x = Mat \\ b"
   ]
  },
  {
   "cell_type": "markdown",
   "metadata": {},
   "source": [
    "For larger or more complex coefficient matrices, we can define a function that evaluates the $i,j$ matrix element; a famous example:"
   ]
  },
  {
   "cell_type": "code",
   "execution_count": 8,
   "metadata": {},
   "outputs": [
    {
     "data": {
      "text/plain": [
       "F (generic function with 1 method)"
      ]
     },
     "metadata": {},
     "output_type": "display_data"
    }
   ],
   "source": [
    "function F(i,j) \n",
    "   if i == j  \n",
    "      2\n",
    "    elseif abs(i - j) == 1\n",
    "      1\n",
    "    elseif abs(i-j) == 2\n",
    "      -2\n",
    "    else \n",
    "       0\n",
    "  end\n",
    "end"
   ]
  },
  {
   "cell_type": "code",
   "execution_count": 9,
   "metadata": {},
   "outputs": [],
   "source": [
    "n = 9;"
   ]
  },
  {
   "cell_type": "markdown",
   "metadata": {},
   "source": [
    "An array comprehension generates our array:"
   ]
  },
  {
   "cell_type": "code",
   "execution_count": 10,
   "metadata": {},
   "outputs": [
    {
     "data": {
      "text/plain": [
       "9×9 Matrix{Int64}:\n",
       "  2   1  -2   0   0   0   0   0   0\n",
       "  1   2   1  -2   0   0   0   0   0\n",
       " -2   1   2   1  -2   0   0   0   0\n",
       "  0  -2   1   2   1  -2   0   0   0\n",
       "  0   0  -2   1   2   1  -2   0   0\n",
       "  0   0   0  -2   1   2   1  -2   0\n",
       "  0   0   0   0  -2   1   2   1  -2\n",
       "  0   0   0   0   0  -2   1   2   1\n",
       "  0   0   0   0   0   0  -2   1   2"
      ]
     },
     "metadata": {},
     "output_type": "display_data"
    }
   ],
   "source": [
    "M = [F(i,j) for i=1:n, j=1:n]"
   ]
  },
  {
   "cell_type": "markdown",
   "metadata": {},
   "source": [
    "The matrix is a _tridiagonal matrix_. Let's solve $M x = b$, where $b$ is a column vector with each member equal to $1$"
   ]
  },
  {
   "cell_type": "code",
   "execution_count": 11,
   "metadata": {},
   "outputs": [
    {
     "data": {
      "text/plain": [
       "9-element Vector{Int64}:\n",
       " 1\n",
       " 1\n",
       " 1\n",
       " 1\n",
       " 1\n",
       " 1\n",
       " 1\n",
       " 1\n",
       " 1"
      ]
     },
     "metadata": {},
     "output_type": "display_data"
    }
   ],
   "source": [
    "b = [1  for i=1:n]"
   ]
  },
  {
   "cell_type": "code",
   "execution_count": 12,
   "metadata": {},
   "outputs": [
    {
     "data": {
      "text/plain": [
       "9-element Vector{Float64}:\n",
       " 1.8043478260869557\n",
       " 1.3478260869565222\n",
       " 1.9782608695652166\n",
       " 2.739130434782608\n",
       " 1.717391304347826\n",
       " 2.739130434782608\n",
       " 1.978260869565217\n",
       " 1.3478260869565215\n",
       " 1.8043478260869563"
      ]
     },
     "metadata": {},
     "output_type": "display_data"
    }
   ],
   "source": [
    "x  = M  \\ b"
   ]
  },
  {
   "cell_type": "markdown",
   "metadata": {},
   "source": [
    "Checking our work, our solution looks OK-- some members of the residual are about equal to the machine epsilon--not surprising. One member is about ten times the machine epsilon."
   ]
  },
  {
   "cell_type": "code",
   "execution_count": 13,
   "metadata": {},
   "outputs": [
    {
     "data": {
      "text/plain": [
       "9-element Vector{Float64}:\n",
       "  4.440892098500626e-16\n",
       "  8.881784197001252e-16\n",
       "  4.440892098500626e-16\n",
       " -1.7763568394002505e-15\n",
       "  4.440892098500626e-16\n",
       "  0.0\n",
       " -4.440892098500626e-16\n",
       "  2.220446049250313e-16\n",
       "  0.0"
      ]
     },
     "metadata": {},
     "output_type": "display_data"
    }
   ],
   "source": [
    "M * x - b"
   ]
  },
  {
   "cell_type": "markdown",
   "metadata": {},
   "source": [
    "Julia has a function that computes the matrix inverse. But solving using the matrix inverse is _slower_ than using the backslash. Let's use a $4096 \\times 4096$ matrix."
   ]
  },
  {
   "cell_type": "code",
   "execution_count": 14,
   "metadata": {},
   "outputs": [],
   "source": [
    "using BenchmarkTools"
   ]
  },
  {
   "cell_type": "code",
   "execution_count": 15,
   "metadata": {},
   "outputs": [
    {
     "data": {
      "text/plain": [
       "4096"
      ]
     },
     "metadata": {},
     "output_type": "display_data"
    }
   ],
   "source": [
    "n = 2^12"
   ]
  },
  {
   "cell_type": "code",
   "execution_count": 16,
   "metadata": {},
   "outputs": [],
   "source": [
    "M = [F(i,j) for i=1:n, j=1:n];"
   ]
  },
  {
   "cell_type": "code",
   "execution_count": 17,
   "metadata": {},
   "outputs": [],
   "source": [
    "x = [1  for i=1:n];"
   ]
  },
  {
   "cell_type": "code",
   "execution_count": 18,
   "metadata": {},
   "outputs": [],
   "source": [
    "b = M * x;"
   ]
  },
  {
   "cell_type": "code",
   "execution_count": 19,
   "metadata": {},
   "outputs": [
    {
     "name": "stdout",
     "output_type": "stream",
     "text": [
      "  815.951 ms (6 allocations: 128.06 MiB)\n"
     ]
    }
   ],
   "source": [
    " @btime M \\ b;"
   ]
  },
  {
   "cell_type": "code",
   "execution_count": 20,
   "metadata": {},
   "outputs": [
    {
     "name": "stdout",
     "output_type": "stream",
     "text": [
      "  2.958 s (10 allocations: 130.09 MiB)\n"
     ]
    }
   ],
   "source": [
    "@btime inv(M) * b;"
   ]
  },
  {
   "cell_type": "markdown",
   "metadata": {},
   "source": [
    "Solving using the matrix inverse is slower and uses more memory--using a matrix inverse is almost always the wrong thing to do. \n",
    "\n",
    "Are the two solutions nearly equal? Let's hope so. The Julia function `findmax` will find the maximum member of an array and also find its position.  We might like the member with the greatest magnitude, so we'll map the absolute value function onto the difference:"
   ]
  },
  {
   "cell_type": "code",
   "execution_count": 21,
   "metadata": {},
   "outputs": [
    {
     "data": {
      "text/plain": [
       "(5.262457136723242e-14, 2667)"
      ]
     },
     "metadata": {},
     "output_type": "display_data"
    }
   ],
   "source": [
    "findmax(map(abs, M \\ b  - inv(M)*b))"
   ]
  },
  {
   "cell_type": "markdown",
   "metadata": {},
   "source": [
    "The member with the greatest magnitude is at location 2667 and its magnitude is about $5.3 \\times 10^{-14}$. So yes, I'd say the answers are about the same.\n",
    "\n",
    "We can solve multiple RHS at the same time; for example, let's try three right-hand-sides all at once."
   ]
  },
  {
   "cell_type": "code",
   "execution_count": 22,
   "metadata": {},
   "outputs": [
    {
     "data": {
      "text/plain": [
       "3×3 Matrix{Int64}:\n",
       " 1  2    3\n",
       " 4  5    6\n",
       " 7  8  107"
      ]
     },
     "metadata": {},
     "output_type": "display_data"
    }
   ],
   "source": [
    "Mat = [1 2 3; 4 5 6; 7 8 107]"
   ]
  },
  {
   "cell_type": "code",
   "execution_count": 23,
   "metadata": {},
   "outputs": [
    {
     "data": {
      "text/plain": [
       "3×3 Matrix{Int64}:\n",
       " 1  0  0\n",
       " 0  1  0\n",
       " 0  0  1"
      ]
     },
     "metadata": {},
     "output_type": "display_data"
    }
   ],
   "source": [
    "b = [1 0 0; 0 1 0 ; 0 0 1]"
   ]
  },
  {
   "cell_type": "markdown",
   "metadata": {},
   "source": [
    "Each column is a solution. The first column is the solution with the RHS [1,0,1]."
   ]
  },
  {
   "cell_type": "code",
   "execution_count": 24,
   "metadata": {},
   "outputs": [
    {
     "data": {
      "text/plain": [
       "3×3 Matrix{Float64}:\n",
       " -1.65646     0.646259    0.0102041\n",
       "  1.31293    -0.292517   -0.0204082\n",
       "  0.0102041  -0.0204082   0.0102041"
      ]
     },
     "metadata": {},
     "output_type": "display_data"
    }
   ],
   "source": [
    "x = Mat \\ b"
   ]
  },
  {
   "cell_type": "markdown",
   "metadata": {},
   "source": [
    "Mat * x should be the $3 \\times 3 $ identity matrix; let's check:"
   ]
  },
  {
   "cell_type": "code",
   "execution_count": 25,
   "metadata": {},
   "outputs": [
    {
     "data": {
      "text/plain": [
       "3×3 Matrix{Float64}:\n",
       "  1.0          -4.85723e-17  -6.93889e-18\n",
       " -2.498e-16     1.0          -6.93889e-18\n",
       "  2.22045e-16   0.0           1.0"
      ]
     },
     "metadata": {},
     "output_type": "display_data"
    }
   ],
   "source": [
    "Mat * x"
   ]
  },
  {
   "cell_type": "markdown",
   "metadata": {},
   "source": [
    "Is it the $3 \\times 3 $ identity matrix? Well, almost--the off-diagonal terms differ from zero by an amount that is about the same or smaller than the machine epsilon. We're not surprised by this.  \n",
    "\n",
    "Let's try another example. A famous matrix that has a determinant that is zero is \n",
    "$$\n",
    " \\begin{bmatrix} 1&2&3\\\\4&5& 6 \\\\ 7 & 8 & 9 \\end{bmatrix}\n",
    "$$\n",
    "Let's change the $3,3$ element just a bit and use it as a coefficient matrix. For just a bit, we'll change\n",
    "the $3,3$ element to $9 + 2^{-46}$."
   ]
  },
  {
   "cell_type": "code",
   "execution_count": 26,
   "metadata": {},
   "outputs": [
    {
     "data": {
      "text/plain": [
       "3×3 Matrix{Float64}:\n",
       " 1.0  2.0  3.0\n",
       " 4.0  5.0  6.0\n",
       " 7.0  8.0  9.0"
      ]
     },
     "metadata": {},
     "output_type": "display_data"
    }
   ],
   "source": [
    "Mat = [1 2 3; 4 5 6; 7 8 9+ 2.0^(-46)]"
   ]
  },
  {
   "cell_type": "code",
   "execution_count": 27,
   "metadata": {},
   "outputs": [
    {
     "data": {
      "text/plain": [
       "3×3 Matrix{Int64}:\n",
       " 1  0  0\n",
       " 0  1  0\n",
       " 0  0  1"
      ]
     },
     "metadata": {},
     "output_type": "display_data"
    }
   ],
   "source": [
    "b = [1 0 0; 0 1 0 ; 0 0 1]"
   ]
  },
  {
   "cell_type": "markdown",
   "metadata": {},
   "source": [
    "As a matrix element, $9+ 2^{-46}$ prints as $9.0$, but its value isn't 9:"
   ]
  },
  {
   "cell_type": "code",
   "execution_count": 28,
   "metadata": {},
   "outputs": [
    {
     "data": {
      "text/plain": [
       "9.000000000000014"
      ]
     },
     "metadata": {},
     "output_type": "display_data"
    }
   ],
   "source": [
    "9+ 2.0^(-46)"
   ]
  },
  {
   "cell_type": "code",
   "execution_count": 29,
   "metadata": {},
   "outputs": [
    {
     "data": {
      "text/plain": [
       "3×3 Matrix{Float64}:\n",
       "  7.03687e13  -1.40737e14   7.03687e13\n",
       " -1.40737e14   2.81475e14  -1.40737e14\n",
       "  7.03687e13  -1.40737e14   7.03687e13"
      ]
     },
     "metadata": {},
     "output_type": "display_data"
    }
   ],
   "source": [
    "x = Mat \\ b"
   ]
  },
  {
   "cell_type": "markdown",
   "metadata": {},
   "source": [
    "Should we check our work? Always!"
   ]
  },
  {
   "cell_type": "code",
   "execution_count": 30,
   "metadata": {},
   "outputs": [
    {
     "data": {
      "text/plain": [
       "3×3 Matrix{Float64}:\n",
       "  1.0     0.0   0.0\n",
       " -0.0625  1.0  -0.0625\n",
       "  0.0     0.0   0.875"
      ]
     },
     "metadata": {},
     "output_type": "display_data"
    }
   ],
   "source": [
    "Mat * x"
   ]
  },
  {
   "cell_type": "markdown",
   "metadata": {},
   "source": [
    "Yikes! This should be the $3 \\times 3$ identity matrix, but the off diagonal terms differ a _great deal_ from zero. What's the story? Let's try solving with exact rational numbers"
   ]
  },
  {
   "cell_type": "code",
   "execution_count": 31,
   "metadata": {},
   "outputs": [
    {
     "data": {
      "text/plain": [
       "3×3 Matrix{Rational{BigInt}}:\n",
       " 1  2                 3\n",
       " 4  5                 6\n",
       " 7  8  633318697598977//70368744177664"
      ]
     },
     "metadata": {},
     "output_type": "display_data"
    }
   ],
   "source": [
    "MMat = map(x -> BigInt(x)//1, [1 2 3; 4 5 6; 7 8 9]) + [0 0 0; 0 0 0; 0 0 1//BigInt(2)^46]"
   ]
  },
  {
   "cell_type": "code",
   "execution_count": 32,
   "metadata": {},
   "outputs": [
    {
     "data": {
      "text/plain": [
       "3×3 Matrix{Rational{BigInt}}:\n",
       " 1  0  0\n",
       " 0  1  0\n",
       " 0  0  1"
      ]
     },
     "metadata": {},
     "output_type": "display_data"
    }
   ],
   "source": [
    "b = map(x -> BigInt(x)//1, b)"
   ]
  },
  {
   "cell_type": "code",
   "execution_count": 33,
   "metadata": {},
   "outputs": [
    {
     "data": {
      "text/plain": [
       "3×3 Matrix{Rational{BigInt}}:\n",
       "  211106232532987//3  -422212465065982//3    70368744177664\n",
       " -422212465065980//3   844424930131967//3  -140737488355328\n",
       "    70368744177664     -140737488355328      70368744177664"
      ]
     },
     "metadata": {},
     "output_type": "display_data"
    }
   ],
   "source": [
    "xx = MMat \\ b"
   ]
  },
  {
   "cell_type": "markdown",
   "metadata": {},
   "source": [
    "Checking this, all is well!"
   ]
  },
  {
   "cell_type": "code",
   "execution_count": 34,
   "metadata": {},
   "outputs": [
    {
     "data": {
      "text/plain": [
       "3×3 Matrix{Rational{BigInt}}:\n",
       " 1  0  0\n",
       " 0  1  0\n",
       " 0  0  1"
      ]
     },
     "metadata": {},
     "output_type": "display_data"
    }
   ],
   "source": [
    "MMat * xx"
   ]
  },
  {
   "cell_type": "markdown",
   "metadata": {},
   "source": [
    "Let's compare the two solutions"
   ]
  },
  {
   "cell_type": "code",
   "execution_count": 35,
   "metadata": {},
   "outputs": [
    {
     "data": {
      "text/plain": [
       "3×3 Matrix{Float64}:\n",
       "  7.03687e13  -1.40737e14   7.03687e13\n",
       " -1.40737e14   2.81475e14  -1.40737e14\n",
       "  7.03687e13  -1.40737e14   7.03687e13"
      ]
     },
     "metadata": {},
     "output_type": "display_data"
    }
   ],
   "source": [
    "xx = map(x -> convert(Float64,x), xx)"
   ]
  },
  {
   "cell_type": "code",
   "execution_count": 36,
   "metadata": {},
   "outputs": [
    {
     "data": {
      "text/plain": [
       "(0.046875, CartesianIndex(2, 1))"
      ]
     },
     "metadata": {},
     "output_type": "display_data"
    }
   ],
   "source": [
    "findmax(map(abs, x - xx))"
   ]
  },
  {
   "cell_type": "markdown",
   "metadata": {},
   "source": [
    "The absolute values of the differences is as large as about $0.046875.$\n",
    "\n",
    "What we are seeing is something like the butterfly effect. A tiny change in the input to a linear system, can cause a big change in the output. Whence the changes in the input? We need to round the matrix elements to floating point numbers. Plus every arithmetic operation involves more rounding errors.\n",
    "\n",
    "The matrix condition number (which we will learn about) is a measure of how much the solution to a linear system might change due to a change in the inputs. Julia gives us a quick way to compute the matrix condition number>"
   ]
  },
  {
   "cell_type": "code",
   "execution_count": 37,
   "metadata": {},
   "outputs": [],
   "source": [
    "using LinearAlgebra"
   ]
  },
  {
   "cell_type": "code",
   "execution_count": 38,
   "metadata": {},
   "outputs": [
    {
     "data": {
      "text/plain": [
       "1.3510798882111456e16"
      ]
     },
     "metadata": {},
     "output_type": "display_data"
    }
   ],
   "source": [
    "cond(Mat,Inf)"
   ]
  },
  {
   "cell_type": "markdown",
   "metadata": {},
   "source": [
    "I know what you are thinking: The condition number of our matrix is big because its determinate is small:"
   ]
  },
  {
   "cell_type": "code",
   "execution_count": 39,
   "metadata": {},
   "outputs": [
    {
     "data": {
      "text/plain": [
       "-4.263256414560601e-14"
      ]
     },
     "metadata": {},
     "output_type": "display_data"
    }
   ],
   "source": [
    "det(Mat)"
   ]
  },
  {
   "cell_type": "markdown",
   "metadata": {},
   "source": [
    "Nice guess, but no. Here is a matrix whose determinant is about one, but it has a big condition number."
   ]
  },
  {
   "cell_type": "code",
   "execution_count": 40,
   "metadata": {},
   "outputs": [
    {
     "data": {
      "text/plain": [
       "2×2 Matrix{Float64}:\n",
       " 6.08696e5  9.13043e5\n",
       " 2.6087e5   3.91304e5"
      ]
     },
     "metadata": {},
     "output_type": "display_data"
    }
   ],
   "source": [
    "MM = [6.086956521743044e5 9.130434782599565e5; 2.608695652171305e5 3.913043478266957e5]"
   ]
  },
  {
   "cell_type": "code",
   "execution_count": 41,
   "metadata": {},
   "outputs": [
    {
     "data": {
      "text/plain": [
       "0.9999974914225497"
      ]
     },
     "metadata": {},
     "output_type": "display_data"
    }
   ],
   "source": [
    "det(MM)"
   ]
  },
  {
   "cell_type": "code",
   "execution_count": 42,
   "metadata": {},
   "outputs": [
    {
     "data": {
      "text/plain": [
       "1.9848821058834126e12"
      ]
     },
     "metadata": {},
     "output_type": "display_data"
    }
   ],
   "source": [
    "cond(MM, Inf)"
   ]
  },
  {
   "cell_type": "markdown",
   "metadata": {},
   "source": [
    "Returning to our $4096 \\times 4096$ matrix, let's find its condition number"
   ]
  },
  {
   "cell_type": "code",
   "execution_count": 43,
   "metadata": {},
   "outputs": [
    {
     "data": {
      "text/plain": [
       "2.40021656063533e6"
      ]
     },
     "metadata": {},
     "output_type": "display_data"
    }
   ],
   "source": [
    "cond([F(i,j) for i=1:4096, j=1:4096], Inf)"
   ]
  },
  {
   "cell_type": "markdown",
   "metadata": {},
   "source": [
    "Again, we'll learn more about what the matrix condition number means"
   ]
  },
  {
   "cell_type": "code",
   "execution_count": 44,
   "metadata": {},
   "outputs": [],
   "source": []
  }
 ],
 "metadata": {
  "kernelspec": {
   "display_name": "Julia 1.10.0",
   "language": "julia",
   "name": "julia-1.10"
  },
  "language_info": {
   "file_extension": ".jl",
   "mimetype": "application/julia",
   "name": "julia",
   "version": "1.10.0"
  }
 },
 "nbformat": 4,
 "nbformat_minor": 2
}
