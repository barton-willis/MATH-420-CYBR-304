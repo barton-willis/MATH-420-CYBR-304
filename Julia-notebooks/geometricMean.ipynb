{
 "cells": [
  {
   "cell_type": "markdown",
   "id": "762ffaa3-a8e6-420b-8bca-8bdb79bf5613",
   "metadata": {},
   "source": [
    " ## Geometric mean\n",
    " _CYBR 304 & MATH 420_ <br>\n",
    " Spring 2024 <br>\n",
    "\n",
    "The _geometric mean_ $\\mathrm{GM}$ of nonnegative numbers $x_1, x_2, \\dots, x_n$ is the nth root of their product. Specifically\n",
    "$$\n",
    "   \\mathrm{GM}(x_1, x_2, \\dots x_n) = \\left( \\prod_{k=1}^n x_k \\right)^{1/n}.\n",
    "$$\n",
    "The geometric mean is often used in finance to find investment returns and it has other applications in engineering as well. In this worksheet, we'll write Julia code that evaluates the geometric mean, paying particular attention to overflow, underflow, and accuracy.\n",
    "\n",
    "One property of the geometric mean is that $\\mathrm{GM}(x,x) = x$ is an identity for all nonnegative numbers $x$. We'll use this identity as a test for our Julia code. Another property of the geometric mean is that any one of the numbers $x_1, x_2, \\dots, x_n$ is zero, the geometric mean of these numbers is zero.\n",
    "\n",
    "Our first effort for a Julia function for the geometric mean is little more than a direct translation of the definition. Here we use the Julia function `prod` to evaluate the product of the members of an array.\n",
    "\n",
    "When the input array is empty, we need to decide what to do. For an empty array, the Julia function `prod` returns the multiplicative identity for the type of the array; for example"
   ]
  },
  {
   "cell_type": "code",
   "execution_count": 2,
   "id": "d4607d62-ff91-4e3f-b4dd-68ae071596cd",
   "metadata": {
    "tags": []
   },
   "outputs": [
    {
     "data": {
      "text/plain": [
       "(1, 1.0)"
      ]
     },
     "execution_count": 2,
     "metadata": {},
     "output_type": "execute_result"
    }
   ],
   "source": [
    "(prod(Int64[]), prod(Float64[]))"
   ]
  },
  {
   "cell_type": "markdown",
   "id": "b62de1d5-0800-40bd-843e-0eb4d8844aa4",
   "metadata": {
    "tags": []
   },
   "source": [
    "Further, in Julia, `1/0` evaluates to `Inf`, and the interderminate form `1^Inf` evaluates to 1. If we accept these Julia conventions, we can write our code as"
   ]
  },
  {
   "cell_type": "code",
   "execution_count": 4,
   "id": "3855076a-afd7-444a-b15e-ead6e3e20b12",
   "metadata": {
    "tags": []
   },
   "outputs": [],
   "source": [
    "\"\"\"\n",
    "    geometric_mean(a::Array)\n",
    "\n",
    "Compute the geometric mean of the elements in the input array `a`. \n",
    "\"\"\"\n",
    "function geometric_mean(a::Array{T}) where T <: Any\n",
    "   prod(a)^(1/length(a)) \n",
    "end;"
   ]
  },
  {
   "cell_type": "markdown",
   "id": "a2ed5283-041f-4d40-b46c-54371885a6c4",
   "metadata": {},
   "source": [
    "Three simple tests show that our function works OK."
   ]
  },
  {
   "cell_type": "code",
   "execution_count": 6,
   "id": "50b785c3",
   "metadata": {
    "tags": []
   },
   "outputs": [
    {
     "data": {
      "text/plain": [
       "(10.0, 10.0)"
      ]
     },
     "execution_count": 6,
     "metadata": {},
     "output_type": "execute_result"
    }
   ],
   "source": [
    "(geometric_mean([5,20]), sqrt(5*20))"
   ]
  },
  {
   "cell_type": "code",
   "execution_count": 7,
   "id": "cd55fbb6",
   "metadata": {
    "tags": []
   },
   "outputs": [
    {
     "data": {
      "text/plain": [
       "(2.2133638394006434, 2.2133638394006434)"
      ]
     },
     "execution_count": 7,
     "metadata": {},
     "output_type": "execute_result"
    }
   ],
   "source": [
    "(geometric_mean([1,2,3,4]), (1*2*3*4)^(1/4))"
   ]
  },
  {
   "cell_type": "code",
   "execution_count": 8,
   "id": "10447c0b",
   "metadata": {
    "tags": []
   },
   "outputs": [
    {
     "data": {
      "text/plain": [
       "(0.0, 0.0)"
      ]
     },
     "execution_count": 8,
     "metadata": {},
     "output_type": "execute_result"
    }
   ],
   "source": [
    "(geometric_mean([0,1,2,3,4]), (0*1*2*3*4)^(1/5))"
   ]
  },
  {
   "cell_type": "raw",
   "id": "5ddb4fdb-6f81-404b-8d4a-f26f942b53f8",
   "metadata": {},
   "source": [
    "When one or more inputs are `Inf` and all other inputs are positive, the result  is `Inf`. This is the correct behavior."
   ]
  },
  {
   "cell_type": "code",
   "execution_count": 9,
   "id": "56a708e7",
   "metadata": {
    "tags": []
   },
   "outputs": [
    {
     "data": {
      "text/plain": [
       "Inf"
      ]
     },
     "execution_count": 9,
     "metadata": {},
     "output_type": "execute_result"
    }
   ],
   "source": [
    "geometric_mean([Inf,4,5])"
   ]
  },
  {
   "cell_type": "raw",
   "id": "0aaf0a34-39a7-4fa8-97e8-a442a3323b96",
   "metadata": {},
   "source": [
    "But if one input is zero and one is `Inf`, the result is `NaN`.  This is appropriate."
   ]
  },
  {
   "cell_type": "code",
   "execution_count": 10,
   "id": "5c92d8b3",
   "metadata": {
    "tags": []
   },
   "outputs": [
    {
     "data": {
      "text/plain": [
       "NaN"
      ]
     },
     "execution_count": 10,
     "metadata": {},
     "output_type": "execute_result"
    }
   ],
   "source": [
    "geometric_mean([Inf, 0])"
   ]
  },
  {
   "cell_type": "markdown",
   "id": "51ae5aa3-b97d-4893-aaad-2c4f636ae3bb",
   "metadata": {},
   "source": [
    "For empty arrays, we have"
   ]
  },
  {
   "cell_type": "code",
   "execution_count": 12,
   "id": "1e6c6203-3267-4585-bc75-c96761833224",
   "metadata": {
    "tags": []
   },
   "outputs": [
    {
     "data": {
      "text/plain": [
       "1.0"
      ]
     },
     "execution_count": 12,
     "metadata": {},
     "output_type": "execute_result"
    }
   ],
   "source": [
    "geometric_mean(Int64[])"
   ]
  },
  {
   "cell_type": "code",
   "execution_count": 13,
   "id": "ec33b406-3725-4d41-9c64-4b3539030957",
   "metadata": {
    "tags": []
   },
   "outputs": [
    {
     "data": {
      "text/plain": [
       "1.0"
      ]
     },
     "execution_count": 13,
     "metadata": {},
     "output_type": "execute_result"
    }
   ],
   "source": [
    "geometric_mean(Float64[])"
   ]
  },
  {
   "cell_type": "raw",
   "id": "55b2551a-0cb7-485d-8a24-180065e057d8",
   "metadata": {},
   "source": [
    "Our function can needlessly underflow and return zero. We should fix this. An example--according to the indentity $\\mathrm{GM}(x,x) = x$, the result of this should be $2^{-538}$, not zero"
   ]
  },
  {
   "cell_type": "code",
   "execution_count": 14,
   "id": "191a225f",
   "metadata": {
    "tags": []
   },
   "outputs": [
    {
     "data": {
      "text/plain": [
       "0.0"
      ]
     },
     "execution_count": 14,
     "metadata": {},
     "output_type": "execute_result"
    }
   ],
   "source": [
    "geometric_mean([2^(-538), 2^(-538)])"
   ]
  },
  {
   "cell_type": "raw",
   "id": "d1f1a77e-cbba-4be8-b9bd-c30287584a28",
   "metadata": {},
   "source": [
    "Possibly, our code should throw an ArgumentError when an input is negative, but it doesn't so a user can get an error message and a stack trace that isn't easy to understand:"
   ]
  },
  {
   "cell_type": "code",
   "execution_count": 15,
   "id": "ccb16761-057e-48c1-b441-883441d964e4",
   "metadata": {
    "tags": []
   },
   "outputs": [
    {
     "ename": "LoadError",
     "evalue": "DomainError with -8.0:\nExponentiation yielding a complex result requires a complex argument.\nReplace x^y with (x+0im)^y, Complex(x)^y, or similar.",
     "output_type": "error",
     "traceback": [
      "DomainError with -8.0:\nExponentiation yielding a complex result requires a complex argument.\nReplace x^y with (x+0im)^y, Complex(x)^y, or similar.",
      "",
      "Stacktrace:",
      " [1] throw_exp_domainerror(x::Float64)",
      "   @ Base.Math .\\math.jl:41",
      " [2] ^(x::Float64, y::Float64)",
      "   @ Base.Math .\\math.jl:1206",
      " [3] ^",
      "   @ .\\promotion.jl:456 [inlined]",
      " [4] geometric_mean(a::Vector{Int64})",
      "   @ Main .\\In[4]:7",
      " [5] top-level scope",
      "   @ In[15]:1"
     ]
    }
   ],
   "source": [
    "geometric_mean([-1,-2,-4])"
   ]
  },
  {
   "cell_type": "raw",
   "id": "2e0e7181-f972-4cd3-8f70-4f9214c793d6",
   "metadata": {},
   "source": [
    "When an input is a complex number, our code works OK"
   ]
  },
  {
   "cell_type": "code",
   "execution_count": 16,
   "id": "1a63ffed",
   "metadata": {
    "tags": []
   },
   "outputs": [
    {
     "data": {
      "text/plain": [
       "3.7113075237539723 + 1.172093654906827im"
      ]
     },
     "execution_count": 16,
     "metadata": {},
     "output_type": "execute_result"
    }
   ],
   "source": [
    "geometric_mean([2+im, 6.7 + im])"
   ]
  },
  {
   "cell_type": "raw",
   "id": "31587c22-2fef-43ce-9a99-f930829f2711",
   "metadata": {},
   "source": [
    "But a bit more testing shows that our code can overflow giving suboptimal results; for example, a better value for this is 1.0e155, not `Inf`"
   ]
  },
  {
   "cell_type": "code",
   "execution_count": 17,
   "id": "19f15af9",
   "metadata": {
    "tags": []
   },
   "outputs": [
    {
     "data": {
      "text/plain": [
       "Inf"
      ]
     },
     "execution_count": 17,
     "metadata": {},
     "output_type": "execute_result"
    }
   ],
   "source": [
    "geometric_mean([1.0e155, 1.0e155])"
   ]
  },
  {
   "cell_type": "markdown",
   "id": "0fe32a7a-48dc-4280-925e-91a17838ecd4",
   "metadata": {},
   "source": [
    "This result violates the identity $GM(x,x) = x$.  We really should do better.  A typical way to fix this overflow problem is to use the fact that the logarithm of a product of positive numbers is the sum of the logarithms.  This gives an alternative formula for the geometric sum\n",
    "$$\n",
    "   GM(x_1, x_2, \\dots, x_n) = \\exp(\\frac{1}{n}  \\left( \\sum_{k=1}^n \\ln(x_k) \\right))\n",
    "$$\n",
    "Alternatively, we can use the base-two logarithm and base two exponentation. For floating point numbers in binary form, this is possilby the most natural choice.\n",
    "\n",
    "A simple implementation of this method is"
   ]
  },
  {
   "cell_type": "markdown",
   "id": "b1871167-94d8-4d12-8e46-960d8e5cd52f",
   "metadata": {},
   "source": [
    "The Julia sum function returns zero for an empty sum; for example"
   ]
  },
  {
   "cell_type": "code",
   "execution_count": 20,
   "id": "f91d2bc6-3a25-4ff1-a725-4966101c3418",
   "metadata": {
    "tags": []
   },
   "outputs": [
    {
     "data": {
      "text/plain": [
       "0.0"
      ]
     },
     "execution_count": 20,
     "metadata": {},
     "output_type": "execute_result"
    }
   ],
   "source": [
    "sum(Float64[])"
   ]
  },
  {
   "cell_type": "markdown",
   "id": "f6db50b1-e9b5-4397-b672-e5c22a538b54",
   "metadata": {},
   "source": [
    "But dividing zero by the length of an empty array yields `NaN`.  Arguably for this code, we should special case an empty array input"
   ]
  },
  {
   "cell_type": "code",
   "execution_count": 22,
   "id": "9e5ea4c5",
   "metadata": {
    "tags": []
   },
   "outputs": [],
   "source": [
    "\"\"\"\n",
    "    geometric_mean_log(a)\n",
    "\n",
    "Compute the geometric mean of the elements in the input array `a` using a logarithmic transformation to avoid overflow. When the \n",
    "array `a` is empty or when the array contains a negative entry, throw an ArgumentError.\n",
    "\"\"\"\n",
    "function geometric_mean_log(a::Array{T}) where T <: Any\n",
    "    n = length(a)\n",
    "    if n==0\n",
    "        one(T)\n",
    "    else\n",
    "      2^(sum(map(log2,a))/n)\n",
    "    end\n",
    "end;"
   ]
  },
  {
   "cell_type": "raw",
   "id": "ea37d5b7-4621-43a6-821d-bbc2810db2c4",
   "metadata": {},
   "source": [
    "In Julia `log` is the natural logarithm. Many computer languages use `ln` for the natural logarithm. The Julia function `map` applies a function to each member of an array and the Julia function `sum` adds the members of an array. Finally, `exp` is the natural exponential function.\n",
    "\n",
    "Here are a few simple tests:"
   ]
  },
  {
   "cell_type": "code",
   "execution_count": 23,
   "id": "b9bdb3be",
   "metadata": {
    "tags": []
   },
   "outputs": [
    {
     "data": {
      "text/plain": [
       "(10.000000000000002, 10.0)"
      ]
     },
     "execution_count": 23,
     "metadata": {},
     "output_type": "execute_result"
    }
   ],
   "source": [
    "(geometric_mean_log([5,20]), sqrt(5*20))"
   ]
  },
  {
   "cell_type": "code",
   "execution_count": 24,
   "id": "f9ec82da",
   "metadata": {
    "tags": []
   },
   "outputs": [
    {
     "data": {
      "text/plain": [
       "(2.213363839400643, 2.2133638394006434)"
      ]
     },
     "execution_count": 24,
     "metadata": {},
     "output_type": "execute_result"
    }
   ],
   "source": [
    "(geometric_mean_log([1,2,3,4]), (1*2*3*4)^(1/4))"
   ]
  },
  {
   "cell_type": "markdown",
   "id": "e37e93f2",
   "metadata": {},
   "source": [
    "We have resolved the overflow problem, but arguably our function isn't as accurate as it might be; for example"
   ]
  },
  {
   "cell_type": "code",
   "execution_count": 26,
   "id": "47f8d342",
   "metadata": {
    "tags": []
   },
   "outputs": [
    {
     "data": {
      "text/plain": [
       "1.000000000000028e155"
      ]
     },
     "execution_count": 26,
     "metadata": {},
     "output_type": "execute_result"
    }
   ],
   "source": [
    "geometric_mean_log([1.0e155, 1.0e155])"
   ]
  },
  {
   "cell_type": "markdown",
   "id": "dadf1806-ed58-4049-b5d9-2e405ed3e419",
   "metadata": {},
   "source": [
    "Because $\\log(0)$ is undefined, you might think that `geometric_mean_log` misbehaves when one or more argument is zero, but it doesn't."
   ]
  },
  {
   "cell_type": "code",
   "execution_count": 28,
   "id": "2d3578bb",
   "metadata": {
    "tags": []
   },
   "outputs": [
    {
     "data": {
      "text/plain": [
       "0.0"
      ]
     },
     "execution_count": 28,
     "metadata": {},
     "output_type": "execute_result"
    }
   ],
   "source": [
    "geometric_mean_log([0,1,2,3])"
   ]
  },
  {
   "cell_type": "markdown",
   "id": "485edb72",
   "metadata": {},
   "source": [
    "To see what happens, we can work through the calculation one step at a time"
   ]
  },
  {
   "cell_type": "code",
   "execution_count": 30,
   "id": "45618103",
   "metadata": {
    "tags": []
   },
   "outputs": [
    {
     "data": {
      "text/plain": [
       "4-element Vector{Float64}:\n",
       " -Inf\n",
       "   0.0\n",
       "   0.6931471805599453\n",
       "   1.0986122886681098"
      ]
     },
     "execution_count": 30,
     "metadata": {},
     "output_type": "execute_result"
    }
   ],
   "source": [
    "x = map(log,[0,1,2,3])"
   ]
  },
  {
   "cell_type": "code",
   "execution_count": 31,
   "id": "24557683",
   "metadata": {
    "tags": []
   },
   "outputs": [
    {
     "data": {
      "text/plain": [
       "-Inf"
      ]
     },
     "execution_count": 31,
     "metadata": {},
     "output_type": "execute_result"
    }
   ],
   "source": [
    "x = sum(x)"
   ]
  },
  {
   "cell_type": "code",
   "execution_count": 32,
   "id": "ecec0e58",
   "metadata": {
    "tags": []
   },
   "outputs": [
    {
     "data": {
      "text/plain": [
       "-Inf"
      ]
     },
     "execution_count": 32,
     "metadata": {},
     "output_type": "execute_result"
    }
   ],
   "source": [
    "x = x/4"
   ]
  },
  {
   "cell_type": "code",
   "execution_count": 33,
   "id": "72d8f1ff",
   "metadata": {
    "tags": []
   },
   "outputs": [
    {
     "data": {
      "text/plain": [
       "0.0"
      ]
     },
     "execution_count": 33,
     "metadata": {},
     "output_type": "execute_result"
    }
   ],
   "source": [
    "exp(x)"
   ]
  },
  {
   "cell_type": "markdown",
   "id": "7d264328-3cbc-45d1-a7e6-29e079242c1f",
   "metadata": {},
   "source": [
    "In Julia log(0) = -Inf and exp(-Inf) = 0.\n"
   ]
  },
  {
   "cell_type": "markdown",
   "id": "e6d0d43f-b3ff-4a5c-bf1b-3a02c2ebe09e",
   "metadata": {},
   "source": [
    "Also, the code has resolved the underflow problem; for example"
   ]
  },
  {
   "cell_type": "code",
   "execution_count": 36,
   "id": "19f3bbb5-f472-4303-a69c-280995615414",
   "metadata": {
    "tags": []
   },
   "outputs": [
    {
     "data": {
      "text/plain": [
       "1.1113793747425387e-162"
      ]
     },
     "execution_count": 36,
     "metadata": {},
     "output_type": "execute_result"
    }
   ],
   "source": [
    "geometric_mean_log([2^(-538), 2^(-538), 2^(-538)])"
   ]
  },
  {
   "cell_type": "code",
   "execution_count": 37,
   "id": "9998d99c-16b7-453e-896a-c0fb2552a4ae",
   "metadata": {
    "tags": []
   },
   "outputs": [
    {
     "data": {
      "text/plain": [
       "0.0"
      ]
     },
     "execution_count": 37,
     "metadata": {},
     "output_type": "execute_result"
    }
   ],
   "source": [
    "sum(map(log2, Float64[]))"
   ]
  },
  {
   "cell_type": "markdown",
   "id": "f0adab1d-7f2a-4625-82f5-1f45e0b96507",
   "metadata": {},
   "source": [
    "The code does seem to return one for an empty array"
   ]
  },
  {
   "cell_type": "code",
   "execution_count": 39,
   "id": "0db1d0bf-1d7c-48d5-ae77-c558fee670e8",
   "metadata": {
    "tags": []
   },
   "outputs": [
    {
     "data": {
      "text/plain": [
       "1.0"
      ]
     },
     "execution_count": 39,
     "metadata": {},
     "output_type": "execute_result"
    }
   ],
   "source": [
    "geometric_mean_log(Float64[])"
   ]
  },
  {
   "cell_type": "raw",
   "id": "288b8dfd-2667-4fe1-bef5-895ccc4be932",
   "metadata": {},
   "source": [
    "For an array with many elements, computing the logarithm is slow. Can we avoid overflow without using the logarithm trick? Sure, we'll just loop through the array members and after each partial product, we'll extract the exponent and the significand of the partial product.  We'll keep a running sum of the exponent as a 64-bit integer.\n",
    "\n",
    "There doesn't seem to be a Julia function that relibly returns the base of a floating point number, so we will be content to require that the input to this function be an array of `Float64` numbers. \n",
    "\n",
    "Again, we trap for an empty sum. Without this trap, at the end of the `for x in a` loop,  both `e` and `n` have the values of zero. That division yields `NaN`, but we don't want that so we include a special trap for an empty sum"
   ]
  },
  {
   "cell_type": "code",
   "execution_count": 40,
   "id": "bebbe640",
   "metadata": {
    "tags": []
   },
   "outputs": [
    {
     "data": {
      "text/plain": [
       "geometric_mean2"
      ]
     },
     "execution_count": 40,
     "metadata": {},
     "output_type": "execute_result"
    }
   ],
   "source": [
    "\"\"\"\n",
    "    geometric_mean(a)\n",
    "\n",
    "Compute the geometric mean of the elements in the input array `a`. \n",
    "\"\"\"\n",
    "function geometric_mean2(a::Array{Float64})\n",
    "    n = length(a)\n",
    "    if n==0 \n",
    "        one(Float64)\n",
    "    else \n",
    "      e = 0\n",
    "      s = one(eltype(a))\n",
    "      for x in a\n",
    "        s *= x\n",
    "        e += exponent(s)\n",
    "        s = significand(s)\n",
    "      end\n",
    "     exp2(e/n)*s^(1/n)\n",
    "    end\n",
    "end\n",
    "    "
   ]
  },
  {
   "cell_type": "raw",
   "id": "f908ed0e-ae6e-4764-9e20-230ee0cb7f31",
   "metadata": {},
   "source": [
    "Simple checks for empty arrays, overflow, and underflow"
   ]
  },
  {
   "cell_type": "code",
   "execution_count": 41,
   "id": "acbcbf41-41b5-4c6a-8375-e5a84f1ca1d8",
   "metadata": {
    "tags": []
   },
   "outputs": [
    {
     "data": {
      "text/plain": [
       "1.0"
      ]
     },
     "execution_count": 41,
     "metadata": {},
     "output_type": "execute_result"
    }
   ],
   "source": [
    "geometric_mean2(Float64[])"
   ]
  },
  {
   "cell_type": "code",
   "execution_count": 42,
   "id": "bc0790bc",
   "metadata": {
    "tags": []
   },
   "outputs": [
    {
     "data": {
      "text/plain": [
       "1.0e155"
      ]
     },
     "execution_count": 42,
     "metadata": {},
     "output_type": "execute_result"
    }
   ],
   "source": [
    "geometric_mean2([1.0e155, 1.0e155])"
   ]
  },
  {
   "cell_type": "code",
   "execution_count": 43,
   "id": "042e75d8",
   "metadata": {
    "tags": []
   },
   "outputs": [
    {
     "data": {
      "text/plain": [
       "1.0e308"
      ]
     },
     "execution_count": 43,
     "metadata": {},
     "output_type": "execute_result"
    }
   ],
   "source": [
    "geometric_mean2([1.0e308, 1.0e308, 1.0e308])"
   ]
  },
  {
   "cell_type": "markdown",
   "id": "3efcbd20-5bcc-4607-892a-71e60bcb7ddf",
   "metadata": {},
   "source": [
    "There is a standard Julia package that has code for the geometric mean.  To use it, we need to use the package manager to download and install it. Once we have done that one time, to use the package, we only need to load it. Additionally, to compare running times, we'll use the `BenchmarkTools` package."
   ]
  },
  {
   "cell_type": "code",
   "execution_count": 45,
   "id": "ef7ab8f8",
   "metadata": {
    "tags": []
   },
   "outputs": [],
   "source": [
    "using StatsBase, BenchmarkTools"
   ]
  },
  {
   "cell_type": "markdown",
   "id": "d1a4d930-ab2d-4521-b99b-bc090e086a7f",
   "metadata": {},
   "source": [
    "Specifically, the function name is `geomean`.  It handle the underflow and overflow tests OK, but arguably, and overflow test shows that `geomean` isn't as accurate as it might be"
   ]
  },
  {
   "cell_type": "code",
   "execution_count": 47,
   "id": "6c4b121f-6aee-4a8c-bedf-5f0a2d6444d3",
   "metadata": {
    "tags": []
   },
   "outputs": [
    {
     "data": {
      "text/plain": [
       "1.1113793747425612e-162"
      ]
     },
     "execution_count": 47,
     "metadata": {},
     "output_type": "execute_result"
    }
   ],
   "source": [
    "geomean([2^(-538), 2^(-538)])"
   ]
  },
  {
   "cell_type": "markdown",
   "id": "b13a12d6-7f5c-40ff-9f01-9fb3aca5ca03",
   "metadata": {},
   "source": [
    "This result should be zero, but it is not"
   ]
  },
  {
   "cell_type": "code",
   "execution_count": 49,
   "id": "996978a1-9cc7-4e7e-843e-14fecd9b9519",
   "metadata": {
    "tags": []
   },
   "outputs": [
    {
     "data": {
      "text/plain": [
       "(4.5671926166570814e46, 4.567192616659072e46)"
      ]
     },
     "execution_count": 49,
     "metadata": {},
     "output_type": "execute_result"
    }
   ],
   "source": [
    "(geomean([exp2(155) for k=1:10^7]) , exp2(155))"
   ]
  },
  {
   "cell_type": "markdown",
   "id": "994be065-d7c7-418d-954f-0562cad4b35a",
   "metadata": {},
   "source": [
    "Our code returns an accurate value"
   ]
  },
  {
   "cell_type": "code",
   "execution_count": 51,
   "id": "202af33c-d83f-422c-9454-b0747e233b14",
   "metadata": {
    "tags": []
   },
   "outputs": [
    {
     "data": {
      "text/plain": [
       "(4.567192616659072e46, 4.567192616659072e46)"
      ]
     },
     "execution_count": 51,
     "metadata": {},
     "output_type": "execute_result"
    }
   ],
   "source": [
    "(geometric_mean2([exp2(155) for k=1:10^7]) , exp2(155))"
   ]
  },
  {
   "cell_type": "raw",
   "id": "94096fe3-9b71-405f-951a-bf59ac0e5089",
   "metadata": {
    "tags": []
   },
   "source": [
    "Julia throws a domain error for `exponent(Inf)`, so our unlike our other two implemenations, this code cannot handle input arrays that have `Inf` as a member. A robust implementation would trap for this case"
   ]
  },
  {
   "cell_type": "code",
   "execution_count": 52,
   "id": "4aaf192c-9eeb-4595-8cf8-38c725341eec",
   "metadata": {
    "tags": []
   },
   "outputs": [
    {
     "ename": "LoadError",
     "evalue": "DomainError with Inf:\nCannot be NaN or Inf.",
     "output_type": "error",
     "traceback": [
      "DomainError with Inf:\nCannot be NaN or Inf.",
      "",
      "Stacktrace:",
      " [1] (::Base.Math.var\"#throw1#10\")(x::Float64)",
      "   @ Base.Math .\\math.jl:1006",
      " [2] exponent",
      "   @ .\\math.jl:1009 [inlined]",
      " [3] geometric_mean2(a::Vector{Float64})",
      "   @ Main .\\In[40]:15",
      " [4] top-level scope",
      "   @ In[52]:1"
     ]
    }
   ],
   "source": [
    "geometric_mean2([2,20,Inf])"
   ]
  },
  {
   "cell_type": "raw",
   "id": "b3b577a9-09a3-476f-b9e2-3dd5e5a23c79",
   "metadata": {},
   "source": [
    "Let's run a race between these two functions. We'll time them on a ten-million element array of random numbers. \n",
    "\n",
    "Keep in mind that Julia has a just in time compiler, so the first time we run the code, it's slow because the Julia compiler has to be used. The timing function in `BenchmarkTools` runs the test multiple times and accounts for the time for compilation.\n",
    "\n",
    "One test shows that our code `geometric_mean` is about twice as fast as `geomean`."
   ]
  },
  {
   "cell_type": "code",
   "execution_count": 53,
   "id": "da9e1b15",
   "metadata": {
    "tags": []
   },
   "outputs": [],
   "source": [
    "L = rand(Float64,10^7);"
   ]
  },
  {
   "cell_type": "code",
   "execution_count": 54,
   "id": "0f6fe138",
   "metadata": {
    "tags": []
   },
   "outputs": [
    {
     "name": "stdout",
     "output_type": "stream",
     "text": [
      "  35.652 ms (1 allocation: 16 bytes)\n"
     ]
    },
    {
     "data": {
      "text/plain": [
       "0.3679514396038032"
      ]
     },
     "execution_count": 54,
     "metadata": {},
     "output_type": "execute_result"
    }
   ],
   "source": [
    "@btime x = geometric_mean2(L)"
   ]
  },
  {
   "cell_type": "code",
   "execution_count": 55,
   "id": "e174f24c",
   "metadata": {
    "tags": []
   },
   "outputs": [
    {
     "name": "stdout",
     "output_type": "stream",
     "text": [
      "  89.300 ms (1 allocation: 16 bytes)\n"
     ]
    },
    {
     "data": {
      "text/plain": [
       "0.36795143960380317"
      ]
     },
     "execution_count": 55,
     "metadata": {},
     "output_type": "execute_result"
    }
   ],
   "source": [
    "@btime y = geomean(L)"
   ]
  },
  {
   "cell_type": "markdown",
   "id": "70e61b58-7aa4-4e98-a4c2-3e2b54bf1784",
   "metadata": {},
   "source": [
    "For the fastest speed, we should stick with our first and overflow and underflow defective code"
   ]
  },
  {
   "cell_type": "code",
   "execution_count": 57,
   "id": "1c35f8f6-afa1-479d-a2b7-6f693072463b",
   "metadata": {
    "tags": []
   },
   "outputs": [
    {
     "name": "stdout",
     "output_type": "stream",
     "text": [
      "  4.347 ms (1 allocation: 16 bytes)\n"
     ]
    },
    {
     "data": {
      "text/plain": [
       "0.0"
      ]
     },
     "execution_count": 57,
     "metadata": {},
     "output_type": "execute_result"
    }
   ],
   "source": [
    "@btime x = geometric_mean(L)"
   ]
  }
 ],
 "metadata": {
  "kernelspec": {
   "display_name": "Julia 1.10.0",
   "language": "julia",
   "name": "julia-1.10"
  },
  "language_info": {
   "file_extension": ".jl",
   "mimetype": "application/julia",
   "name": "julia",
   "version": "1.10.0"
  }
 },
 "nbformat": 4,
 "nbformat_minor": 5
}
