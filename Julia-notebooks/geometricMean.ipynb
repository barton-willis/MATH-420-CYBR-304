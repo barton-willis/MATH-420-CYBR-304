{
 "cells": [
  {
   "cell_type": "markdown",
   "id": "0bef1754-c6c4-445e-85a2-2831d149c19b",
   "metadata": {},
   "source": [
    " ## Geometric mean\n",
    " _CYBR 304 & MATH 420_ <br>\n",
    " Spring 2024 <br>\n",
    "\n",
    "To write robust numerical code, we must be aware of numerical over and underflow, numerical accuracy, and we need to give \"edge cases\" special attention. This Julia worksheet illustrates some of these issues for computing the geometric mean. In this context, edge cases include the geometric sum of the empty list as well as how to handle Julia's extended real numbers `Inf` and `NaN`.\n",
    "\n",
    "The _geometric mean_ $\\mathrm{GM}$ of nonnegative numbers $x_1, x_2, \\dots, x_n$ is the nth root of their product. Specifically\n",
    "$$\n",
    "   \\mathrm{GM}(x_1, x_2, \\dots x_n) = \\left( \\prod_{k=1}^n x_k \\right)^{1/n}.\n",
    "$$\n",
    "The geometric mean is often used in finance to find investment returns, and it has other applications in engineering as well. In this worksheet, we'll write Julia code that evaluates the geometric mean, paying particular attention to overflow, underflow, and accuracy.\n",
    "\n",
    "One property of the geometric mean is that $\\mathrm{GM}(x,x) = x$ is an identity for all nonnegative numbers $x$. We'll use this identity as a test for our Julia code. Another property of the geometric mean is that any one of the numbers $x_1, x_2, \\dots, x_n$ is zero, the geometric mean of these numbers is zero.\n",
    "\n",
    "When the input array is empty, we need to decide what to do. The convention in mathematics is that an empty product is the multiplicative identity, making the geometric mean of an empty list is the zeroth root of one. But the zeroth root of one is indeterminate, so we should write or code so that geometric mean of an empty list throws\n",
    "an error."
   ]
  },
  {
   "cell_type": "code",
   "execution_count": 2,
   "id": "721b19ab-b0ab-4aa7-bec1-9448dc231012",
   "metadata": {
    "tags": []
   },
   "outputs": [],
   "source": [
    "\"\"\"\n",
    "    geometric_mean(a::Array)\n",
    "\n",
    "Compute the geometric mean of the elements in the input array `a`. \n",
    "\"\"\"\n",
    "function geometric_mean(a::Array)\n",
    "   isempty(a) && throw(ArgumentError(\"The input to geometric_mean must be a nonempty array.\"))\n",
    "   prod(a)^(1/length(a)) \n",
    "end;"
   ]
  },
  {
   "cell_type": "markdown",
   "id": "a2ed5283-041f-4d40-b46c-54371885a6c4",
   "metadata": {},
   "source": [
    "Three simple tests show that our function works OK."
   ]
  },
  {
   "cell_type": "code",
   "execution_count": 4,
   "id": "50b785c3",
   "metadata": {
    "tags": []
   },
   "outputs": [
    {
     "data": {
      "text/plain": [
       "(10.0, 10.0)"
      ]
     },
     "execution_count": 4,
     "metadata": {},
     "output_type": "execute_result"
    }
   ],
   "source": [
    "(geometric_mean([5,20]), sqrt(5*20))"
   ]
  },
  {
   "cell_type": "code",
   "execution_count": 5,
   "id": "cd55fbb6",
   "metadata": {
    "tags": []
   },
   "outputs": [
    {
     "data": {
      "text/plain": [
       "(2.2133638394006434, 2.2133638394006434)"
      ]
     },
     "execution_count": 5,
     "metadata": {},
     "output_type": "execute_result"
    }
   ],
   "source": [
    "(geometric_mean([1,2,3,4]), (1*2*3*4)^(1/4))"
   ]
  },
  {
   "cell_type": "code",
   "execution_count": 6,
   "id": "10447c0b",
   "metadata": {
    "tags": []
   },
   "outputs": [
    {
     "data": {
      "text/plain": [
       "(0.0, 0.0)"
      ]
     },
     "execution_count": 6,
     "metadata": {},
     "output_type": "execute_result"
    }
   ],
   "source": [
    "(geometric_mean([0,1,2,3,4]), (0*1*2*3*4)^(1/5))"
   ]
  },
  {
   "cell_type": "markdown",
   "id": "5ddb4fdb-6f81-404b-8d4a-f26f942b53f8",
   "metadata": {},
   "source": [
    "When one or more inputs are `Inf` and all other inputs are positive, the result is `Inf`. This is the correct behavior."
   ]
  },
  {
   "cell_type": "code",
   "execution_count": 8,
   "id": "56a708e7",
   "metadata": {
    "tags": []
   },
   "outputs": [
    {
     "data": {
      "text/plain": [
       "Inf"
      ]
     },
     "execution_count": 8,
     "metadata": {},
     "output_type": "execute_result"
    }
   ],
   "source": [
    "geometric_mean([Inf,4,5])"
   ]
  },
  {
   "cell_type": "markdown",
   "id": "0aaf0a34-39a7-4fa8-97e8-a442a3323b96",
   "metadata": {},
   "source": [
    "But if one input is zero and one is `Inf`, the result is `NaN`.  This is appropriate."
   ]
  },
  {
   "cell_type": "code",
   "execution_count": 10,
   "id": "5c92d8b3",
   "metadata": {
    "tags": []
   },
   "outputs": [
    {
     "data": {
      "text/plain": [
       "NaN"
      ]
     },
     "execution_count": 10,
     "metadata": {},
     "output_type": "execute_result"
    }
   ],
   "source": [
    "geometric_mean([Inf, 0])"
   ]
  },
  {
   "cell_type": "markdown",
   "id": "b4ef2c4e-9858-4092-89ae-6751056ca3f6",
   "metadata": {},
   "source": [
    "Possibly, an input that both `Inf` and `Inf` could be handled more gracefully:"
   ]
  },
  {
   "cell_type": "code",
   "execution_count": 12,
   "id": "489bc06b-80d3-45a9-a8f1-e2e53252d8fb",
   "metadata": {
    "tags": []
   },
   "outputs": [
    {
     "ename": "LoadError",
     "evalue": "DomainError with -Inf:\nExponentiation yielding a complex result requires a complex argument.\nReplace x^y with (x+0im)^y, Complex(x)^y, or similar.",
     "output_type": "error",
     "traceback": [
      "DomainError with -Inf:\nExponentiation yielding a complex result requires a complex argument.\nReplace x^y with (x+0im)^y, Complex(x)^y, or similar.",
      "",
      "Stacktrace:",
      " [1] throw_exp_domainerror(x::Float64)",
      "   @ Base.Math .\\math.jl:41",
      " [2] ^(x::Float64, y::Float64)",
      "   @ Base.Math .\\math.jl:1206",
      " [3] geometric_mean(a::Vector{Float64})",
      "   @ Main .\\In[2]:8",
      " [4] top-level scope",
      "   @ In[12]:1"
     ]
    }
   ],
   "source": [
    "geometric_mean([Inf, -Inf])"
   ]
  },
  {
   "cell_type": "raw",
   "id": "2496e19b-67f6-487b-bfec-62dc18f6ee02",
   "metadata": {},
   "source": [
    "For an empty array, we have"
   ]
  },
  {
   "cell_type": "code",
   "execution_count": 13,
   "id": "ec33b406-3725-4d41-9c64-4b3539030957",
   "metadata": {
    "tags": []
   },
   "outputs": [
    {
     "ename": "LoadError",
     "evalue": "ArgumentError: The input to geometric_mean must be a nonempty array.",
     "output_type": "error",
     "traceback": [
      "ArgumentError: The input to geometric_mean must be a nonempty array.",
      "",
      "Stacktrace:",
      " [1] geometric_mean(a::Vector{Any})",
      "   @ Main .\\In[2]:7",
      " [2] top-level scope",
      "   @ In[13]:1"
     ]
    }
   ],
   "source": [
    "geometric_mean([])"
   ]
  },
  {
   "cell_type": "markdown",
   "id": "55b2551a-0cb7-485d-8a24-180065e057d8",
   "metadata": {},
   "source": [
    "Our function can needlessly underflow and return zero. We should fix this. An example--according to the identity $\\mathrm{GM}(x,x) = x$, the result of this should be \n",
    "$2^{-538}$, not zero"
   ]
  },
  {
   "cell_type": "code",
   "execution_count": 15,
   "id": "191a225f",
   "metadata": {
    "tags": []
   },
   "outputs": [
    {
     "data": {
      "text/plain": [
       "0.0"
      ]
     },
     "execution_count": 15,
     "metadata": {},
     "output_type": "execute_result"
    }
   ],
   "source": [
    "geometric_mean([2^(-538), 2^(-538)])"
   ]
  },
  {
   "cell_type": "markdown",
   "id": "d1f1a77e-cbba-4be8-b9bd-c30287584a28",
   "metadata": {},
   "source": [
    "Possibly, our code should throw an Argument Error when an input is negative, but it doesn't, so a user can get an error message and a stack trace that isn't easy to understand:"
   ]
  },
  {
   "cell_type": "code",
   "execution_count": 17,
   "id": "ccb16761-057e-48c1-b441-883441d964e4",
   "metadata": {
    "tags": []
   },
   "outputs": [
    {
     "ename": "LoadError",
     "evalue": "DomainError with -8.0:\nExponentiation yielding a complex result requires a complex argument.\nReplace x^y with (x+0im)^y, Complex(x)^y, or similar.",
     "output_type": "error",
     "traceback": [
      "DomainError with -8.0:\nExponentiation yielding a complex result requires a complex argument.\nReplace x^y with (x+0im)^y, Complex(x)^y, or similar.",
      "",
      "Stacktrace:",
      " [1] throw_exp_domainerror(x::Float64)",
      "   @ Base.Math .\\math.jl:41",
      " [2] ^(x::Float64, y::Float64)",
      "   @ Base.Math .\\math.jl:1206",
      " [3] ^",
      "   @ .\\promotion.jl:456 [inlined]",
      " [4] geometric_mean(a::Vector{Int64})",
      "   @ Main .\\In[2]:8",
      " [5] top-level scope",
      "   @ In[17]:1"
     ]
    }
   ],
   "source": [
    "geometric_mean([-1,-2,-4])"
   ]
  },
  {
   "cell_type": "markdown",
   "id": "2e0e7181-f972-4cd3-8f70-4f9214c793d6",
   "metadata": {},
   "source": [
    "When an input is a complex number, our code works OK"
   ]
  },
  {
   "cell_type": "code",
   "execution_count": 19,
   "id": "1a63ffed",
   "metadata": {
    "tags": []
   },
   "outputs": [
    {
     "data": {
      "text/plain": [
       "3.7113075237539723 + 1.172093654906827im"
      ]
     },
     "execution_count": 19,
     "metadata": {},
     "output_type": "execute_result"
    }
   ],
   "source": [
    "geometric_mean([2+im, 6.7 + im])"
   ]
  },
  {
   "cell_type": "markdown",
   "id": "31587c22-2fef-43ce-9a99-f930829f2711",
   "metadata": {},
   "source": [
    "But a bit more testing shows that our code can overflow giving suboptimal results; for example, a better value for this is 1.0e155, not `Inf`"
   ]
  },
  {
   "cell_type": "code",
   "execution_count": 21,
   "id": "19f15af9",
   "metadata": {
    "tags": []
   },
   "outputs": [
    {
     "data": {
      "text/plain": [
       "Inf"
      ]
     },
     "execution_count": 21,
     "metadata": {},
     "output_type": "execute_result"
    }
   ],
   "source": [
    "geometric_mean([1.0e155, 1.0e155])"
   ]
  },
  {
   "cell_type": "markdown",
   "id": "052cb92e-060e-4f4a-9cb8-858c6c5cca20",
   "metadata": {},
   "source": [
    "This result violates the identity $\\mathrm{GM}(x,x) = x$.  We really should do better.  A typical way to fix this overflow problem is to use the fact that the logarithm of a product of positive numbers is the sum of the logarithms.  This gives an alternative formula for the geometric sum\n",
    "$$\n",
    "   \\mathrm{GM}(x_1, x_2, \\dots, x_n) = \\exp \\left (\\frac{1}{n}  \\left( \\sum_{k=1}^n \\ln(x_k) \\right) \\right)\n",
    "$$\n",
    "Alternatively, we can use the base-two logarithm and base two exponentiation. For floating point numbers in binary form, this is possibly the most natural choice.\n",
    "\n",
    "A simple implementation of this method is"
   ]
  },
  {
   "cell_type": "code",
   "execution_count": 23,
   "id": "9e5ea4c5",
   "metadata": {
    "tags": []
   },
   "outputs": [],
   "source": [
    "\"\"\"\n",
    "    geometric_mean_log(a::Array)\n",
    "\n",
    "Compute the geometric mean of the elements in the input array `a` using a logarithmic \n",
    "transformation to avoid overflow. When the array `a` is empty throw an ArgumentError.\n",
    "\"\"\"\n",
    "function geometric_mean_log(a::Array)\n",
    "    isempty(a) && throw(ArgumentError(\"The input to geometric_mean_log must be a nonempty array.\"))\n",
    "    exp2(sum(map(log2,a))/length(a))\n",
    "end;"
   ]
  },
  {
   "cell_type": "markdown",
   "id": "ea37d5b7-4621-43a6-821d-bbc2810db2c4",
   "metadata": {},
   "source": [
    "In Julia `log` is the natural logarithm, and `log2` is the base two logarithm. Many computer languages use `ln` for the natural logarithm. The Julia function `map` applies a function to each member of an array and the Julia function `sum` adds the members of an array. Finally, `exp2` is the function $x \\mapsto 2^x$.\n",
    "\n",
    "Here are a few simple tests:"
   ]
  },
  {
   "cell_type": "code",
   "execution_count": 25,
   "id": "b9bdb3be",
   "metadata": {
    "tags": []
   },
   "outputs": [
    {
     "data": {
      "text/plain": [
       "(10.000000000000002, 10.0)"
      ]
     },
     "execution_count": 25,
     "metadata": {},
     "output_type": "execute_result"
    }
   ],
   "source": [
    "(geometric_mean_log([5,20]), sqrt(5*20))"
   ]
  },
  {
   "cell_type": "code",
   "execution_count": 26,
   "id": "f9ec82da",
   "metadata": {
    "tags": []
   },
   "outputs": [
    {
     "data": {
      "text/plain": [
       "(2.213363839400643, 2.2133638394006434)"
      ]
     },
     "execution_count": 26,
     "metadata": {},
     "output_type": "execute_result"
    }
   ],
   "source": [
    "(geometric_mean_log([1,2,3,4]), (1*2*3*4)^(1/4))"
   ]
  },
  {
   "cell_type": "markdown",
   "id": "e37e93f2",
   "metadata": {},
   "source": [
    "We have resolved the overflow problem, but arguably our function isn't as accurate as it might be; for example"
   ]
  },
  {
   "cell_type": "code",
   "execution_count": 28,
   "id": "47f8d342",
   "metadata": {
    "tags": []
   },
   "outputs": [
    {
     "data": {
      "text/plain": [
       "1.000000000000028e155"
      ]
     },
     "execution_count": 28,
     "metadata": {},
     "output_type": "execute_result"
    }
   ],
   "source": [
    "geometric_mean_log([1.0e155, 1.0e155])"
   ]
  },
  {
   "cell_type": "markdown",
   "id": "dadf1806-ed58-4049-b5d9-2e405ed3e419",
   "metadata": {},
   "source": [
    "Because $\\log(0)$ is undefined, you might think that `geometric_mean_log` misbehaves when one or more argument is zero, but it doesn't."
   ]
  },
  {
   "cell_type": "code",
   "execution_count": 30,
   "id": "2d3578bb",
   "metadata": {
    "tags": []
   },
   "outputs": [
    {
     "data": {
      "text/plain": [
       "0.0"
      ]
     },
     "execution_count": 30,
     "metadata": {},
     "output_type": "execute_result"
    }
   ],
   "source": [
    "geometric_mean_log([0,1,2,3])"
   ]
  },
  {
   "cell_type": "markdown",
   "id": "485edb72",
   "metadata": {},
   "source": [
    "To see what happens, we can work through the calculation one step at a time"
   ]
  },
  {
   "cell_type": "code",
   "execution_count": 32,
   "id": "45618103",
   "metadata": {
    "tags": []
   },
   "outputs": [
    {
     "data": {
      "text/plain": [
       "4-element Vector{Float64}:\n",
       " -Inf\n",
       "   0.0\n",
       "   0.6931471805599453\n",
       "   1.0986122886681098"
      ]
     },
     "execution_count": 32,
     "metadata": {},
     "output_type": "execute_result"
    }
   ],
   "source": [
    "x = map(log,[0,1,2,3])"
   ]
  },
  {
   "cell_type": "code",
   "execution_count": 33,
   "id": "24557683",
   "metadata": {
    "tags": []
   },
   "outputs": [
    {
     "data": {
      "text/plain": [
       "-Inf"
      ]
     },
     "execution_count": 33,
     "metadata": {},
     "output_type": "execute_result"
    }
   ],
   "source": [
    "x = sum(x)"
   ]
  },
  {
   "cell_type": "code",
   "execution_count": 34,
   "id": "ecec0e58",
   "metadata": {
    "tags": []
   },
   "outputs": [
    {
     "data": {
      "text/plain": [
       "-Inf"
      ]
     },
     "execution_count": 34,
     "metadata": {},
     "output_type": "execute_result"
    }
   ],
   "source": [
    "x = x/4"
   ]
  },
  {
   "cell_type": "code",
   "execution_count": 35,
   "id": "72d8f1ff",
   "metadata": {
    "tags": []
   },
   "outputs": [
    {
     "data": {
      "text/plain": [
       "0.0"
      ]
     },
     "execution_count": 35,
     "metadata": {},
     "output_type": "execute_result"
    }
   ],
   "source": [
    "exp(x)"
   ]
  },
  {
   "cell_type": "markdown",
   "id": "7d264328-3cbc-45d1-a7e6-29e079242c1f",
   "metadata": {},
   "source": [
    "In Julia log(0) = -Inf and exp(-Inf) = 0.\n"
   ]
  },
  {
   "cell_type": "markdown",
   "id": "e6d0d43f-b3ff-4a5c-bf1b-3a02c2ebe09e",
   "metadata": {},
   "source": [
    "Also, the code has resolved the underflow problem; for example"
   ]
  },
  {
   "cell_type": "code",
   "execution_count": 38,
   "id": "19f3bbb5-f472-4303-a69c-280995615414",
   "metadata": {
    "tags": []
   },
   "outputs": [
    {
     "data": {
      "text/plain": [
       "1.1113793747425387e-162"
      ]
     },
     "execution_count": 38,
     "metadata": {},
     "output_type": "execute_result"
    }
   ],
   "source": [
    "geometric_mean_log([2^(-538), 2^(-538), 2^(-538)])"
   ]
  },
  {
   "cell_type": "code",
   "execution_count": 39,
   "id": "9998d99c-16b7-453e-896a-c0fb2552a4ae",
   "metadata": {
    "tags": []
   },
   "outputs": [
    {
     "data": {
      "text/plain": [
       "0.0"
      ]
     },
     "execution_count": 39,
     "metadata": {},
     "output_type": "execute_result"
    }
   ],
   "source": [
    "sum(map(log2, Float64[]))"
   ]
  },
  {
   "cell_type": "markdown",
   "id": "e9bcb684-9e2e-4d52-82dd-216fa4a203b4",
   "metadata": {},
   "source": [
    "Let's check that the code throws an Argument error when the input is an empty array."
   ]
  },
  {
   "cell_type": "code",
   "execution_count": 41,
   "id": "0db1d0bf-1d7c-48d5-ae77-c558fee670e8",
   "metadata": {
    "tags": []
   },
   "outputs": [
    {
     "ename": "LoadError",
     "evalue": "ArgumentError: The input to geometric_mean_log must be a nonempty array.",
     "output_type": "error",
     "traceback": [
      "ArgumentError: The input to geometric_mean_log must be a nonempty array.",
      "",
      "Stacktrace:",
      " [1] geometric_mean_log(a::Vector{Any})",
      "   @ Main .\\In[23]:8",
      " [2] top-level scope",
      "   @ In[41]:1"
     ]
    }
   ],
   "source": [
    "geometric_mean_log([])"
   ]
  },
  {
   "cell_type": "raw",
   "id": "bc9d75a4-c8b2-47f6-bdb0-c4321fb06fd4",
   "metadata": {},
   "source": [
    "For an array with many elements, computing the logarithm is slow. Can we avoid overflow without using the logarithm trick? Sure, we'll just loop through the array members and after each partial product, we'll extract the exponent and the significand of the partial product.  We'll keep a running sum of the exponent as a 64-bit integer.\n",
    "\n",
    "Regardless of the radix, the Julia functions `exponent` and `significand` return a radix two value. Thus this code should work correctly even for radix ten numbers."
   ]
  },
  {
   "cell_type": "code",
   "execution_count": 42,
   "id": "bebbe640",
   "metadata": {
    "tags": []
   },
   "outputs": [],
   "source": [
    "\"\"\"\n",
    "    geometric_mean2(a::AbstractArray{<:AbstractFloat})\n",
    "\n",
    "Compute the geometric mean of the elements in the input array `a`.  When the array is empty, throw an error.\n",
    "\"\"\"\n",
    "function geometric_mean2(a::AbstractArray{<:AbstractFloat})\n",
    "    isempty(a) && throw(ArgumentError(\"The input to geometric_mean must be a nonempty array.\"))\n",
    "    n = length(a)\n",
    "    e = 0\n",
    "    s = one(eltype(a))\n",
    "    for x in a\n",
    "      s *= x\n",
    "      e += exponent(s)\n",
    "      s = significand(s)\n",
    "    end\n",
    "     exp2(e/n)*s^(1/n)\n",
    "end;   "
   ]
  },
  {
   "cell_type": "markdown",
   "id": "f908ed0e-ae6e-4764-9e20-230ee0cb7f31",
   "metadata": {},
   "source": [
    "Let's do some simple checks for empty arrays, overflow, and underflow"
   ]
  },
  {
   "cell_type": "code",
   "execution_count": 44,
   "id": "acbcbf41-41b5-4c6a-8375-e5a84f1ca1d8",
   "metadata": {
    "tags": []
   },
   "outputs": [
    {
     "ename": "LoadError",
     "evalue": "ArgumentError: The input to geometric_mean must be a nonempty array.",
     "output_type": "error",
     "traceback": [
      "ArgumentError: The input to geometric_mean must be a nonempty array.",
      "",
      "Stacktrace:",
      " [1] geometric_mean2(a::Vector{Float16})",
      "   @ Main .\\In[42]:7",
      " [2] top-level scope",
      "   @ In[44]:1"
     ]
    }
   ],
   "source": [
    "geometric_mean2(Float16[])"
   ]
  },
  {
   "cell_type": "code",
   "execution_count": 45,
   "id": "bc0790bc",
   "metadata": {
    "tags": []
   },
   "outputs": [
    {
     "data": {
      "text/plain": [
       "1.0e155"
      ]
     },
     "execution_count": 45,
     "metadata": {},
     "output_type": "execute_result"
    }
   ],
   "source": [
    "geometric_mean2([1.0e155, 1.0e155])"
   ]
  },
  {
   "cell_type": "code",
   "execution_count": 46,
   "id": "042e75d8",
   "metadata": {
    "tags": []
   },
   "outputs": [
    {
     "data": {
      "text/plain": [
       "1.0e308"
      ]
     },
     "execution_count": 46,
     "metadata": {},
     "output_type": "execute_result"
    }
   ],
   "source": [
    "geometric_mean2([1.0e308, 1.0e308, 1.0e308])"
   ]
  },
  {
   "cell_type": "markdown",
   "id": "3efcbd20-5bcc-4607-892a-71e60bcb7ddf",
   "metadata": {},
   "source": [
    "There is a standard Julia package that has code for the geometric mean.  To use it, we need to use the package manager to download and install it. Once we have done that one time, to use the package, we only need to load it. Additionally, to compare running times, we'll use the `BenchmarkTools` package."
   ]
  },
  {
   "cell_type": "code",
   "execution_count": 48,
   "id": "ef7ab8f8",
   "metadata": {
    "tags": []
   },
   "outputs": [],
   "source": [
    "using StatsBase, BenchmarkTools"
   ]
  },
  {
   "cell_type": "markdown",
   "id": "d1a4d930-ab2d-4521-b99b-bc090e086a7f",
   "metadata": {},
   "source": [
    "Specifically, the function name is `geomean`.  It handles the underflow and overflow tests OK, but arguably, and overflow test shows that `geomean` isn't as accurate as it might be"
   ]
  },
  {
   "cell_type": "code",
   "execution_count": 50,
   "id": "6c4b121f-6aee-4a8c-bedf-5f0a2d6444d3",
   "metadata": {
    "tags": []
   },
   "outputs": [
    {
     "data": {
      "text/plain": [
       "1.1113793747425612e-162"
      ]
     },
     "execution_count": 50,
     "metadata": {},
     "output_type": "execute_result"
    }
   ],
   "source": [
    "geomean([2^(-538), 2^(-538)])"
   ]
  },
  {
   "cell_type": "markdown",
   "id": "37ea485a-ee40-463a-80ce-e5d330016b73",
   "metadata": {},
   "source": [
    "These two results should be the same, but they are not"
   ]
  },
  {
   "cell_type": "code",
   "execution_count": 52,
   "id": "996978a1-9cc7-4e7e-843e-14fecd9b9519",
   "metadata": {
    "tags": []
   },
   "outputs": [
    {
     "data": {
      "text/plain": [
       "(4.5671926166570814e46, 4.567192616659072e46)"
      ]
     },
     "execution_count": 52,
     "metadata": {},
     "output_type": "execute_result"
    }
   ],
   "source": [
    "(geomean([exp2(155) for k=1:10^7]) , exp2(155))"
   ]
  },
  {
   "cell_type": "markdown",
   "id": "994be065-d7c7-418d-954f-0562cad4b35a",
   "metadata": {},
   "source": [
    "Our code returns an accurate value"
   ]
  },
  {
   "cell_type": "code",
   "execution_count": 54,
   "id": "202af33c-d83f-422c-9454-b0747e233b14",
   "metadata": {
    "tags": []
   },
   "outputs": [
    {
     "data": {
      "text/plain": [
       "(4.567192616659072e46, 4.567192616659072e46)"
      ]
     },
     "execution_count": 54,
     "metadata": {},
     "output_type": "execute_result"
    }
   ],
   "source": [
    "(geometric_mean2([exp2(155) for k=1:10^7]) , exp2(155))"
   ]
  },
  {
   "cell_type": "markdown",
   "id": "94096fe3-9b71-405f-951a-bf59ac0e5089",
   "metadata": {
    "tags": []
   },
   "source": [
    "Julia throws a domain error for `exponent(Inf)`, so our unlike our other two implementations, this code cannot handle input arrays that have `Inf` as a member. A robust implementation would trap for this case"
   ]
  },
  {
   "cell_type": "code",
   "execution_count": 56,
   "id": "4aaf192c-9eeb-4595-8cf8-38c725341eec",
   "metadata": {
    "tags": []
   },
   "outputs": [
    {
     "ename": "LoadError",
     "evalue": "DomainError with Inf:\nCannot be NaN or Inf.",
     "output_type": "error",
     "traceback": [
      "DomainError with Inf:\nCannot be NaN or Inf.",
      "",
      "Stacktrace:",
      " [1] (::Base.Math.var\"#throw1#10\")(x::Float64)",
      "   @ Base.Math .\\math.jl:1006",
      " [2] exponent",
      "   @ .\\math.jl:1009 [inlined]",
      " [3] geometric_mean2(a::Vector{Float64})",
      "   @ Main .\\In[42]:13",
      " [4] top-level scope",
      "   @ In[56]:1"
     ]
    }
   ],
   "source": [
    "geometric_mean2([2,20,Inf])"
   ]
  },
  {
   "cell_type": "markdown",
   "id": "5ac7cd7c-1f5f-41a0-b962-fa04ac678f3a",
   "metadata": {
    "tags": []
   },
   "source": [
    "But the geomean function properly returns Inf for this case\n"
   ]
  },
  {
   "cell_type": "code",
   "execution_count": 58,
   "id": "0d55cc60-2176-4b3a-93e9-5cbf23ecbc1c",
   "metadata": {
    "tags": []
   },
   "outputs": [
    {
     "data": {
      "text/plain": [
       "Inf"
      ]
     },
     "execution_count": 58,
     "metadata": {},
     "output_type": "execute_result"
    }
   ],
   "source": [
    "geomean([2,20,Inf])"
   ]
  },
  {
   "cell_type": "markdown",
   "id": "8d3a6fca-d8c1-49de-8a1a-f1f9d7dd5fe2",
   "metadata": {},
   "source": [
    "And a few quick checks too"
   ]
  },
  {
   "cell_type": "code",
   "execution_count": 60,
   "id": "925b8043-0195-4c1e-a5b0-9b6aecca3c7c",
   "metadata": {
    "tags": []
   },
   "outputs": [
    {
     "data": {
      "text/plain": [
       "10.0"
      ]
     },
     "execution_count": 60,
     "metadata": {},
     "output_type": "execute_result"
    }
   ],
   "source": [
    "geometric_mean2([5.0,20.0])"
   ]
  },
  {
   "cell_type": "code",
   "execution_count": 61,
   "id": "2fd38b21-ffdc-433c-8c17-aee43e7c5fd5",
   "metadata": {
    "tags": []
   },
   "outputs": [
    {
     "data": {
      "text/plain": [
       "(7.368062997280774, 7.368062997280773)"
      ]
     },
     "execution_count": 61,
     "metadata": {},
     "output_type": "execute_result"
    }
   ],
   "source": [
    "geometric_mean2([5.0,20.0, 4.0]), (5.0 * 20.0 * 4.0)^(1/3)"
   ]
  },
  {
   "cell_type": "markdown",
   "id": "0f09af52-b8ff-4781-ae8b-6c61381b8ce0",
   "metadata": {},
   "source": [
    "But the `geomean` function properly returns `Inf` for this case"
   ]
  },
  {
   "cell_type": "markdown",
   "id": "b3b577a9-09a3-476f-b9e2-3dd5e5a23c79",
   "metadata": {},
   "source": [
    "Let's run a race between these two functions. We'll time them on a ten-million element array of random numbers. \n",
    "\n",
    "Keep in mind that Julia has a just in time compiler, so the first time we run the code, it's slow because the Julia compiler has to be used. The timing function in `BenchmarkTools` runs the test multiple times and accounts for the time for compilation.\n",
    "\n",
    "One test shows that our code `geometric_mean` is about twice as fast as `geomean`."
   ]
  },
  {
   "cell_type": "code",
   "execution_count": 64,
   "id": "c8401005-27d9-4007-a3ce-c82920253aa5",
   "metadata": {
    "tags": []
   },
   "outputs": [],
   "source": [
    "L = rand(Float64,10^7);"
   ]
  },
  {
   "cell_type": "code",
   "execution_count": 65,
   "id": "0f6fe138",
   "metadata": {
    "tags": []
   },
   "outputs": [
    {
     "name": "stdout",
     "output_type": "stream",
     "text": [
      "  35.622 ms (1 allocation: 16 bytes)\n"
     ]
    },
    {
     "data": {
      "text/plain": [
       "0.36799148422814704"
      ]
     },
     "execution_count": 65,
     "metadata": {},
     "output_type": "execute_result"
    }
   ],
   "source": [
    "@btime x = geometric_mean2(L)"
   ]
  },
  {
   "cell_type": "code",
   "execution_count": 66,
   "id": "e174f24c",
   "metadata": {
    "tags": []
   },
   "outputs": [
    {
     "name": "stdout",
     "output_type": "stream",
     "text": [
      "  86.617 ms (1 allocation: 16 bytes)\n"
     ]
    },
    {
     "data": {
      "text/plain": [
       "0.3679914842281471"
      ]
     },
     "execution_count": 66,
     "metadata": {},
     "output_type": "execute_result"
    }
   ],
   "source": [
    "@btime y = geomean(L)"
   ]
  },
  {
   "cell_type": "markdown",
   "id": "9c63440c-0d2a-43f5-8137-cadf1113e031",
   "metadata": {},
   "source": [
    "For the fastest speed, we should stick with our first implementation, but it is prone to over and underflow, it is much faster than all the other methods."
   ]
  },
  {
   "cell_type": "code",
   "execution_count": 68,
   "id": "1c35f8f6-afa1-479d-a2b7-6f693072463b",
   "metadata": {
    "tags": []
   },
   "outputs": [
    {
     "name": "stdout",
     "output_type": "stream",
     "text": [
      "  4.349 ms (1 allocation: 16 bytes)\n"
     ]
    },
    {
     "data": {
      "text/plain": [
       "0.0"
      ]
     },
     "execution_count": 68,
     "metadata": {},
     "output_type": "execute_result"
    }
   ],
   "source": [
    "@btime x = geometric_mean(L)"
   ]
  },
  {
   "cell_type": "code",
   "execution_count": 110,
   "id": "85bede68-2be0-4726-8a50-b7a39138f20f",
   "metadata": {
    "tags": []
   },
   "outputs": [],
   "source": [
    "using Pandoc"
   ]
  },
  {
   "cell_type": "code",
   "execution_count": null,
   "id": "203b48fc-9d35-4ede-bed0-d7e7b64a72a2",
   "metadata": {},
   "outputs": [],
   "source": []
  }
 ],
 "metadata": {
  "kernelspec": {
   "display_name": "Julia 1.10.0",
   "language": "julia",
   "name": "julia-1.10"
  },
  "language_info": {
   "file_extension": ".jl",
   "mimetype": "application/julia",
   "name": "julia",
   "version": "1.10.0"
  }
 },
 "nbformat": 4,
 "nbformat_minor": 5
}
