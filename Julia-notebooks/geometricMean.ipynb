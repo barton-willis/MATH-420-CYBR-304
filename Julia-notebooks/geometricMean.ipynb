{
 "cells": [
  {
   "cell_type": "markdown",
   "id": "01551148-309a-4058-a7fd-41743e683721",
   "metadata": {},
   "source": [
    " ### Geometric mean\n",
    "\n",
    "The _geometric mean_ $GM$ of nonnegative numbers $x_1, x_2, \\dots, x_n$ is the nth root of their product.  Specifically\n",
    "$$\n",
    "   GM(x_1, x_2, \\dots x_n) = \\left( \\prod_{k=1}^n x_k \\right)^{1/n}\n",
    "$$\n",
    "\n",
    "One property of the geometric mean is that for all nonnegative numbers $x$, we have $GM(x,x) = x$ is an identity. \n",
    "\n",
    "Another property of the geometric mean is that any one of the numbers $x_1, x_2, \\dots, x_n$ is zero, then the geometric mean of these numbers is zero.\n",
    "\n",
    "Our first effort for a Julia function for the geometric mean is little more than a direct translation of the definition.\n",
    "The Julia function `prod` returns the product of the members of an array."
   ]
  },
  {
   "cell_type": "code",
   "execution_count": null,
   "id": "eb06096f-220c-4a22-80be-7142ecb8f177",
   "metadata": {
    "tags": []
   },
   "outputs": [],
   "source": [
    "\"\"\"\n",
    "    geometric_mean(a::Array)\n",
    "\n",
    "Compute the geometric mean of the elements in the input array `a`. When the array `a` is empty or when\n",
    "the array contains a negative entry, throw an ArgumentError.\n",
    "\"\"\"\n",
    "function geometric_mean(a::Array)\n",
    "     isempty(a) && throw(ArgumentError(\"Input to `geometric_mean` must not be empty.\"))\n",
    "     all(x -> x >= 0, a) || throw(ArgumentError(\"Input to `geometric_mean` must contain only nonnegative values.\"))\n",
    "     prod(a)^(1/length(a))  \n",
    "end"
   ]
  },
  {
   "cell_type": "markdown",
   "id": "85cdbc82",
   "metadata": {},
   "source": [
    "Two simple tests show that our function works OK"
   ]
  },
  {
   "cell_type": "code",
   "execution_count": null,
   "id": "50b785c3",
   "metadata": {
    "tags": []
   },
   "outputs": [],
   "source": [
    "(geometric_mean([4,45]), sqrt(4*45))"
   ]
  },
  {
   "cell_type": "code",
   "execution_count": null,
   "id": "cd55fbb6",
   "metadata": {
    "tags": []
   },
   "outputs": [],
   "source": [
    "(geometric_mean([1,2,3,4]), (1*2*3*4)^(1/4))"
   ]
  },
  {
   "cell_type": "code",
   "execution_count": null,
   "id": "10447c0b",
   "metadata": {
    "tags": []
   },
   "outputs": [],
   "source": [
    "(geometric_mean([0,1,2,3,4]), (0*1*2*3*4)^(1/5))"
   ]
  },
  {
   "cell_type": "code",
   "execution_count": null,
   "id": "4ece9894-918c-4eea-9773-776683f3efc4",
   "metadata": {
    "tags": []
   },
   "outputs": [],
   "source": [
    "geometric_mean([])"
   ]
  },
  {
   "cell_type": "code",
   "execution_count": null,
   "id": "ccb16761-057e-48c1-b441-883441d964e4",
   "metadata": {
    "tags": []
   },
   "outputs": [],
   "source": [
    "geometric_mean([-1])"
   ]
  },
  {
   "cell_type": "markdown",
   "id": "8f61f842",
   "metadata": {},
   "source": [
    "But a bit more testing shows that our code can overflow giving suboptimal results; for example"
   ]
  },
  {
   "cell_type": "code",
   "execution_count": null,
   "id": "19f15af9",
   "metadata": {
    "tags": []
   },
   "outputs": [],
   "source": [
    "geometric_mean([1.0e155, 1.0e155])"
   ]
  },
  {
   "cell_type": "markdown",
   "id": "dee6b17f-76e8-4d6a-9999-218a040e9cd4",
   "metadata": {},
   "source": [
    "This result violates the identity $GM(x,x) = x$.  We really should do better.  A typical way to fix this overflow\n",
    "problem is to use the fact that the logarithm of a product of positive numbers is the sum of the logarithms.  This \n",
    "gives an alternative formula for the geometric sum\n",
    "$$\n",
    "   GM(x_1, x_2, \\dots, x_n) = \\exp(\\frac{1}{n}  \\left( \\sum_{k=1}^n \\ln(x_k) \\right))\n",
    "$$\n",
    "A simple implementation of this method is"
   ]
  },
  {
   "cell_type": "code",
   "execution_count": null,
   "id": "9e5ea4c5",
   "metadata": {
    "tags": []
   },
   "outputs": [],
   "source": [
    "\"\"\"\n",
    "    geometric_mean_log(a)\n",
    "\n",
    "Compute the geometric mean of the elements in the input array `a` using a logarithmic transformation to avoid overflow. When the \n",
    "array `a` is empty or when the array contains a negative entry, throw an ArgumentError.\n",
    "\"\"\"\n",
    "function geometric_mean_log(a)\n",
    "    isempty(a) && throw(ArgumentError(\"Input to `geometric_mean_log` must not be empty.\"))\n",
    "    all(x -> x >= 0, a) || throw(ArgumentError(\"Input to `geometric_mean_log` must contain only nonnegative values.\"))\n",
    "    exp(sum(map(log,a))/length(a))\n",
    "end;"
   ]
  },
  {
   "cell_type": "markdown",
   "id": "9d3b74f6",
   "metadata": {},
   "source": [
    "In Julia `log` is the natural logarithm. Many computer languages use `ln` for the natural logarithm. The Julia function `map` applies a function to each member of an array and the Julia function `sum` adds the members of an array. Finally,\n",
    "`exp` is the natural exponential function."
   ]
  },
  {
   "cell_type": "code",
   "execution_count": null,
   "id": "b9bdb3be",
   "metadata": {
    "tags": []
   },
   "outputs": [],
   "source": [
    "(geometric_mean_log([4,45]), sqrt(4*45))"
   ]
  },
  {
   "cell_type": "code",
   "execution_count": null,
   "id": "f9ec82da",
   "metadata": {
    "tags": []
   },
   "outputs": [],
   "source": [
    "(geometric_mean_log([1,2,3,4]), (1*2*3*4)^(1/4))"
   ]
  },
  {
   "cell_type": "markdown",
   "id": "e37e93f2",
   "metadata": {},
   "source": [
    "We have resolved the overflow problem, but arguably our function isn't as accurate as it might be"
   ]
  },
  {
   "cell_type": "code",
   "execution_count": null,
   "id": "47f8d342",
   "metadata": {
    "tags": []
   },
   "outputs": [],
   "source": [
    "geometric_mean_log([1.0e155, 1.0e155])"
   ]
  },
  {
   "cell_type": "markdown",
   "id": "dadf1806-ed58-4049-b5d9-2e405ed3e419",
   "metadata": {},
   "source": [
    "Because $\\log(0)$ is undefined, you might think that `geometric_mean_log` misbehaves when one or more argument is zero, but it doesn't."
   ]
  },
  {
   "cell_type": "code",
   "execution_count": null,
   "id": "2d3578bb",
   "metadata": {
    "tags": []
   },
   "outputs": [],
   "source": [
    "geometric_mean_log([0,1,2,3])"
   ]
  },
  {
   "cell_type": "markdown",
   "id": "485edb72",
   "metadata": {},
   "source": [
    "To see what happens, we can work through the calculation one step at a time"
   ]
  },
  {
   "cell_type": "code",
   "execution_count": null,
   "id": "45618103",
   "metadata": {
    "tags": []
   },
   "outputs": [],
   "source": [
    "x = map(log,[0,1,2,3])"
   ]
  },
  {
   "cell_type": "code",
   "execution_count": null,
   "id": "24557683",
   "metadata": {
    "tags": []
   },
   "outputs": [],
   "source": [
    "x = sum(x)"
   ]
  },
  {
   "cell_type": "code",
   "execution_count": null,
   "id": "ecec0e58",
   "metadata": {
    "tags": []
   },
   "outputs": [],
   "source": [
    "x = x/4"
   ]
  },
  {
   "cell_type": "code",
   "execution_count": null,
   "id": "72d8f1ff",
   "metadata": {
    "tags": []
   },
   "outputs": [],
   "source": [
    "exp(x)"
   ]
  },
  {
   "cell_type": "markdown",
   "id": "e5c55d0a",
   "metadata": {},
   "source": [
    "In Julia `log(0) = -Inf` and `exp(-Inf) = 0`."
   ]
  },
  {
   "cell_type": "markdown",
   "id": "4c5a4fd3",
   "metadata": {},
   "source": [
    "For an array with many elements, computing the logarithm is a bit spendy. Can we avoid overflow without using the \n",
    "logarithm trick? Sure, we'll just loop through the array members and after each partial product, we'll extract\n",
    "the exponent and the significand of the partial product.  We'll keep a running sum of the exponent as a 64 bit integer."
   ]
  },
  {
   "cell_type": "code",
   "execution_count": null,
   "id": "bebbe640",
   "metadata": {
    "tags": []
   },
   "outputs": [],
   "source": [
    "\"\"\"\n",
    "    geometric_mean(a)\n",
    "\n",
    "Compute the geometric mean of the elements in the input array `a`. When the array `a` is empty or when the array contains a negative entry,\n",
    "throw an ArgumentError.\n",
    "\"\"\"\n",
    "function geometric_mean(a::Array)\n",
    "    isempty(a) && throw(ArgumentError(\"Input to `geometric_mean` must not be empty.\"))\n",
    "    all(x -> x >= 0, a) || throw(ArgumentError(\"Input to `geometric_mean` must contain only nonnegative values.\"))\n",
    "    e = 0\n",
    "    s = one(eltype(a))\n",
    "    for x in a\n",
    "        s *= x\n",
    "        e += exponent(s)\n",
    "        s = significand(s)\n",
    "     end\n",
    "    n = length(a)\n",
    "    2^(e/n)*s^(1/n)\n",
    "end\n",
    "    "
   ]
  },
  {
   "cell_type": "markdown",
   "id": "36fc2a2f",
   "metadata": {},
   "source": [
    "Simple checks for overflow"
   ]
  },
  {
   "cell_type": "code",
   "execution_count": null,
   "id": "bc0790bc",
   "metadata": {
    "tags": []
   },
   "outputs": [],
   "source": [
    "geometric_mean([1.0e155, 1.0e155])"
   ]
  },
  {
   "cell_type": "code",
   "execution_count": null,
   "id": "042e75d8",
   "metadata": {
    "tags": []
   },
   "outputs": [],
   "source": [
    "geometric_mean([1.0e308, 1.0e308, 1.0e308])"
   ]
  },
  {
   "cell_type": "markdown",
   "id": "3efcbd20-5bcc-4607-892a-71e60bcb7ddf",
   "metadata": {},
   "source": [
    "There is a standard Julia package that has code for the geometric mean.  To use it, we need to use the package manager to download and install it. Once we have done that one time, to use the package, we only need to load it"
   ]
  },
  {
   "cell_type": "code",
   "execution_count": null,
   "id": "ef7ab8f8",
   "metadata": {
    "tags": []
   },
   "outputs": [],
   "source": [
    "using StatsBase, BenchmarkTools"
   ]
  },
  {
   "cell_type": "markdown",
   "id": "a4eb9656",
   "metadata": {},
   "source": [
    "Let's run a race between them--try a ten-million element array of random numbers. Julia has a just in time compiler, so the first time we run the code, it's slow because the Julia compiler has to be used. After that, it should be fast"
   ]
  },
  {
   "cell_type": "code",
   "execution_count": null,
   "id": "da9e1b15",
   "metadata": {
    "tags": []
   },
   "outputs": [],
   "source": [
    "L = rand(Float64,10^7);"
   ]
  },
  {
   "cell_type": "code",
   "execution_count": null,
   "id": "0f6fe138",
   "metadata": {
    "tags": []
   },
   "outputs": [],
   "source": [
    "@btime x = geometric_mean(L)"
   ]
  },
  {
   "cell_type": "code",
   "execution_count": null,
   "id": "e174f24c",
   "metadata": {
    "tags": []
   },
   "outputs": [],
   "source": [
    "@btime y = geomean(L)"
   ]
  },
  {
   "cell_type": "code",
   "execution_count": null,
   "id": "69bc92c5-2759-4b18-8f05-6bdcdd477e8f",
   "metadata": {},
   "outputs": [],
   "source": []
  }
 ],
 "metadata": {
  "kernelspec": {
   "display_name": "Julia 1.10.0",
   "language": "julia",
   "name": "julia-1.10"
  },
  "language_info": {
   "file_extension": ".jl",
   "mimetype": "application/julia",
   "name": "julia",
   "version": "1.10.0"
  }
 },
 "nbformat": 4,
 "nbformat_minor": 5
}
