{
 "cells": [
  {
   "cell_type": "markdown",
   "metadata": {},
   "source": [
    "## Trapezoidal rule integration\n",
    "**CYBR 304 & MATH 420**  <br>\n",
    "_Spring 2024_ <br>\n",
    "\n",
    "The function `Trapezoidal` returns the n-panel trapezoidal rule estimation for \n",
    "`integrate(f(x),x,a,b)`."
   ]
  },
  {
   "cell_type": "code",
   "execution_count": 1,
   "metadata": {},
   "outputs": [
    {
     "ename": "Base.Meta.ParseError",
     "evalue": "ParseError:\n# Error @ c:\\Users\\Barton\\github\\quartic\\MATH-420-CYBR-304\\Julia-notebooks\\trap_rule.ipynb:11:8\n        s += f(fma(h,k,a))\n    end\n#      └ ── invalid iteration spec: expected one of `=` `in` or `∈`",
     "output_type": "error",
     "traceback": [
      "ParseError:\n",
      "# Error @ c:\\Users\\Barton\\github\\quartic\\MATH-420-CYBR-304\\Julia-notebooks\\trap_rule.ipynb:11:8\n",
      "        s += f(fma(h,k,a))\n",
      "    end\n",
      "#      └ ── invalid iteration spec: expected one of `=` `in` or `∈`\n",
      "\n",
      "Stacktrace:\n",
      " [1] top-level scope\n",
      "   @ c:\\Users\\Barton\\github\\quartic\\MATH-420-CYBR-304\\Julia-notebooks\\trap_rule.ipynb:11"
     ]
    }
   ],
   "source": [
    "\"\"\"\n",
    "    trapezoidial(f::Function, a::Number, b::Number, n::Integer)\n",
    "\n",
    "Return the n-panel trapezoidal rule estimation for `integrate(f(x),x,a,b)`.\n",
    "\"\"\"\n",
    "function trapezoidal(f::Function, a::Number, b::Number, n::Integer)\n",
    "    h = (b-a)/n\n",
    "    s = (f(a) + f(b))/2\n",
    "    for for k in 1:n-1\n",
    "        s += f(fma(h,k,a))\n",
    "    end\n",
    "    h*s\n",
    "end;"
   ]
  },
  {
   "cell_type": "markdown",
   "metadata": {},
   "source": [
    "Let's make sure that the documentation string works correctly"
   ]
  },
  {
   "cell_type": "code",
   "execution_count": 2,
   "metadata": {},
   "outputs": [
    {
     "ename": "Base.Meta.ParseError",
     "evalue": "ParseError:\n# Error @ c:\\Users\\Barton\\github\\quartic\\MATH-420-CYBR-304\\Julia-notebooks\\trap_rule.ipynb:1:1\n? trapezoidal\n╙ ── not a unary operator",
     "output_type": "error",
     "traceback": [
      "ParseError:\n",
      "# Error @ c:\\Users\\Barton\\github\\quartic\\MATH-420-CYBR-304\\Julia-notebooks\\trap_rule.ipynb:1:1\n",
      "? trapezoidal\n",
      "╙ ── not a unary operator\n",
      "\n",
      "Stacktrace:\n",
      " [1] top-level scope\n",
      "   @ c:\\Users\\Barton\\github\\quartic\\MATH-420-CYBR-304\\Julia-notebooks\\trap_rule.ipynb:1"
     ]
    }
   ],
   "source": [
    "? trapezoidal"
   ]
  },
  {
   "cell_type": "markdown",
   "metadata": {},
   "source": [
    "And let's do some basic checks. The rule is exact for every linear function; let's \n",
    "check that is the case."
   ]
  },
  {
   "cell_type": "markdown",
   "metadata": {},
   "source": [
    "trapezoidal(x -> 1, 0,1,1)"
   ]
  },
  {
   "cell_type": "code",
   "execution_count": 3,
   "metadata": {},
   "outputs": [
    {
     "name": "stderr",
     "output_type": "stream",
     "text": [
      "┌ Error: Some Julia code in the VS Code extension crashed\n",
      "└ @ VSCodeServer c:\\Users\\Barton\\.vscode\\extensions\\julialang.language-julia-1.79.2\\scripts\\error_handler.jl:15\n",
      "\u001b[91m\u001b[1mERROR: \u001b[22m\u001b[39m\u001b[91mUndefVarError: hasproperty not defined\u001b[39m\n",
      "Stacktrace:\n",
      " [1] \u001b[1m(::getfield(VSCodeServer, Symbol(\"##19#20\")){Regex})\u001b[22m\u001b[1m(\u001b[22m::Base.StackTraces.StackFrame\u001b[1m)\u001b[22m at \u001b[1mc:\\Users\\Barton\\.vscode\\extensions\\julialang.language-julia-1.79.2\\scripts\\packages\\VSCodeServer\\src\\misc.jl:37\u001b[22m\n",
      " [2] \u001b[1mfindnext\u001b[22m\u001b[1m(\u001b[22m::getfield(VSCodeServer, Symbol(\"##19#20\")){Regex}, ::Array{Base.StackTraces.StackFrame,1}, ::Int64\u001b[1m)\u001b[22m at \u001b[1m.\\array.jl:1690\u001b[22m\n",
      " [3] \u001b[1mfindfirst\u001b[22m\u001b[1m(\u001b[22m::Function, ::Array{Base.StackTraces.StackFrame,1}\u001b[1m)\u001b[22m at \u001b[1m.\\array.jl:1741\u001b[22m\n",
      " [4] \u001b[1mfind_first_trace_entry\u001b[22m\u001b[1m(\u001b[22m::Array{Union{Ptr{Nothing}, InterpreterIP},1}, ::Regex\u001b[1m)\u001b[22m at \u001b[1mc:\\Users\\Barton\\.vscode\\extensions\\julialang.language-julia-1.79.2\\scripts\\packages\\VSCodeServer\\src\\misc.jl:35\u001b[22m\n",
      " [5] \u001b[1mcrop_backtrace\u001b[22m\u001b[1m(\u001b[22m::Array{Union{Ptr{Nothing}, InterpreterIP},1}\u001b[1m)\u001b[22m at \u001b[1mc:\\Users\\Barton\\.vscode\\extensions\\julialang.language-julia-1.79.2\\scripts\\packages\\VSCodeServer\\src\\misc.jl:9\u001b[22m\n",
      " [6] \u001b[1m(::getfield(VSCodeServer, Symbol(\"##215#216\")){VSCodeServer.NotebookRunCellArguments,String})\u001b[22m\u001b[1m(\u001b[22m\u001b[1m)\u001b[22m at \u001b[1mc:\\Users\\Barton\\.vscode\\extensions\\julialang.language-julia-1.79.2\\scripts\\packages\\VSCodeServer\\src\\serve_notebook.jl:21\u001b[22m\n",
      " [7] \u001b[1mwithpath\u001b[22m\u001b[1m(\u001b[22m::getfield(VSCodeServer, Symbol(\"##215#216\")){VSCodeServer.NotebookRunCellArguments,String}, ::String\u001b[1m)\u001b[22m at \u001b[1mc:\\Users\\Barton\\.vscode\\extensions\\julialang.language-julia-1.79.2\\scripts\\packages\\VSCodeServer\\src\\repl.jl:276\u001b[22m\n",
      " [8] \u001b[1mnotebook_runcell_request\u001b[22m\u001b[1m(\u001b[22m::VSCodeServer.JSONRPC.JSONRPCEndpoint{Base.PipeEndpoint,Base.PipeEndpoint}, ::VSCodeServer.NotebookRunCellArguments\u001b[1m)\u001b[22m at \u001b[1mc:\\Users\\Barton\\.vscode\\extensions\\julialang.language-julia-1.79.2\\scripts\\packages\\VSCodeServer\\src\\serve_notebook.jl:13\u001b[22m\n",
      " [9] \u001b[1mdispatch_msg\u001b[22m\u001b[1m(\u001b[22m::VSCodeServer.JSONRPC.JSONRPCEndpoint{Base.PipeEndpoint,Base.PipeEndpoint}, ::VSCodeServer.JSONRPC.MsgDispatcher, ::Dict{String,Any}\u001b[1m)\u001b[22m at \u001b[1mc:\\Users\\Barton\\.vscode\\extensions\\julialang.language-julia-1.79.2\\scripts\\packages\\JSONRPC\\src\\typed.jl:67\u001b[22m\n",
      " [10] \u001b[1m#serve_notebook#217\u001b[22m\u001b[1m(\u001b[22m::String, ::Function, ::String, ::Base.CoreLogging.SimpleLogger\u001b[1m)\u001b[22m at \u001b[1mc:\\Users\\Barton\\.vscode\\extensions\\julialang.language-julia-1.79.2\\scripts\\packages\\VSCodeServer\\src\\serve_notebook.jl:139\u001b[22m\n",
      " [11] \u001b[1m(::getfield(VSCodeServer, Symbol(\"#kw##serve_notebook\")))\u001b[22m\u001b[1m(\u001b[22m::NamedTuple{(:crashreporting_pipename,),Tuple{String}}, ::typeof(VSCodeServer.serve_notebook), ::String, ::Base.CoreLogging.SimpleLogger\u001b[1m)\u001b[22m at \u001b[1m.\\none:0\u001b[22m\n",
      " [12] top-level scope at \u001b[1mc:\\Users\\Barton\\.vscode\\extensions\\julialang.language-julia-1.79.2\\scripts\\notebook\\notebook.jl:35\u001b[22m\n",
      " [13] \u001b[1minclude\u001b[22m at \u001b[1m.\\boot.jl:326\u001b[22m [inlined]\n",
      " [14] \u001b[1minclude_relative\u001b[22m\u001b[1m(\u001b[22m::Module, ::String\u001b[1m)\u001b[22m at \u001b[1m.\\loading.jl:1038\u001b[22m\n",
      " [15] \u001b[1minclude\u001b[22m\u001b[1m(\u001b[22m::Module, ::String\u001b[1m)\u001b[22m at \u001b[1m.\\sysimg.jl:29\u001b[22m\n",
      " [16] \u001b[1mexec_options\u001b[22m\u001b[1m(\u001b[22m::Base.JLOptions\u001b[1m)\u001b[22m at \u001b[1m.\\client.jl:267\u001b[22m\n",
      " [17] \u001b[1m_start\u001b[22m\u001b[1m(\u001b[22m\u001b[1m)\u001b[22m at \u001b[1m.\\client.jl:436\u001b[22m\n"
     ]
    }
   ],
   "source": [
    "trapezoidal(x -> 1, 0,1,10)"
   ]
  },
  {
   "cell_type": "code",
   "execution_count": null,
   "metadata": {},
   "outputs": [],
   "source": [
    "trapezoidal(x -> x, 0,1,1)"
   ]
  },
  {
   "cell_type": "code",
   "execution_count": null,
   "metadata": {},
   "outputs": [],
   "source": [
    "trapezoidal(x -> 1, 0,1,10)"
   ]
  },
  {
   "cell_type": "markdown",
   "metadata": {},
   "source": [
    "Our function misbehaves when the number of subintervals is zero negative; we should fix that."
   ]
  },
  {
   "cell_type": "code",
   "execution_count": null,
   "metadata": {},
   "outputs": [],
   "source": [
    "trapezoidal(x -> 1, 0,1, -9)"
   ]
  },
  {
   "cell_type": "code",
   "execution_count": null,
   "metadata": {},
   "outputs": [],
   "source": [
    "trapezoidal(x -> 1, 0,1, 0)"
   ]
  },
  {
   "cell_type": "markdown",
   "metadata": {},
   "source": [
    "Another misfeature, I think, is that our function will not do exact rational arithmetic. That's because the way `h` is evaluated is converted to a Float64. We can fix this by extending the operator // to work for any float divided by an integer."
   ]
  },
  {
   "cell_type": "code",
   "execution_count": null,
   "metadata": {},
   "outputs": [],
   "source": [
    "import Base.//"
   ]
  },
  {
   "cell_type": "code",
   "execution_count": null,
   "metadata": {},
   "outputs": [],
   "source": [
    "//(x::T, y::Integer) where {T<:AbstractFloat} = x / y"
   ]
  },
  {
   "cell_type": "code",
   "execution_count": null,
   "metadata": {
    "scrolled": true
   },
   "outputs": [],
   "source": [
    "\"\"\"\n",
    "    trapezoidial(f::Function, a::Number, b::Number, n::Integer)\n",
    "\n",
    "Return the n-panel trapezoidal rule estimation for `integrate(f(x),x,a,b)`\n",
    "\"\"\"\n",
    "function trapezoidal(f::Function, a::Number, b::Number, n::Integer)\n",
    "    n > 0 || throw(ArgumentError(\"The number of panels must be positive, found $n\"))\n",
    "    h = (b-a)//n\n",
    "    s = (f(a) + f(b))//2\n",
    "    for k = 1 : n-1\n",
    "        s += f(fma(h,k,a))\n",
    "    end\n",
    "    h*s\n",
    "end"
   ]
  },
  {
   "cell_type": "code",
   "execution_count": null,
   "metadata": {},
   "outputs": [],
   "source": [
    "trapezoidal(x -> x, 0, 1, -10)"
   ]
  },
  {
   "cell_type": "code",
   "execution_count": null,
   "metadata": {},
   "outputs": [],
   "source": [
    "trapezoidal(x -> BigInt(1)//x, BigInt(1)//1, BigInt(2)//1, 10)"
   ]
  },
  {
   "cell_type": "code",
   "execution_count": null,
   "metadata": {},
   "outputs": [],
   "source": [
    "Here is a fun divide and conquer method for the Trapezoidal rule."
   ]
  },
  {
   "cell_type": "code",
   "execution_count": null,
   "metadata": {},
   "outputs": [],
   "source": [
    "function trapezoidal_r(f::Function, a::Number, b::Number, n::Integer)\n",
    "  if n==1\n",
    "        (b-a)*(f(a)+f(b))//2\n",
    "  else\n",
    "        mid = (a+b)//2\n",
    "        n = div(n,2) + if isodd(n) 1 else 0 end\n",
    "        trapezoidal_r(f,a,mid,n) + trapezoidal_r(f,mid,b,n) \n",
    "  end\n",
    "end"
   ]
  },
  {
   "cell_type": "markdown",
   "metadata": {},
   "source": [
    "Let's compare the divide and conquer method with the iterative method for `integrate(x *sin(x^2),x,0,1000)`. For the number of panels, we'll use a power of 2. That should make the knots for each method identical."
   ]
  },
  {
   "cell_type": "code",
   "execution_count": null,
   "metadata": {},
   "outputs": [],
   "source": [
    "(f, a, b, n) = (x -> x*sin(x^2), 0.0, 5.0, 2^28);"
   ]
  },
  {
   "cell_type": "code",
   "execution_count": null,
   "metadata": {},
   "outputs": [],
   "source": [
    "Tr = trapezoidal_r(f,a,b,n)"
   ]
  },
  {
   "cell_type": "code",
   "execution_count": null,
   "metadata": {},
   "outputs": [],
   "source": [
    "Ts = trapezoidal(f,a,b,n)"
   ]
  },
  {
   "cell_type": "code",
   "execution_count": null,
   "metadata": {},
   "outputs": [],
   "source": [
    "The exact value of this integral is"
   ]
  },
  {
   "cell_type": "code",
   "execution_count": null,
   "metadata": {},
   "outputs": [],
   "source": [
    "Texact = 1/2-cos(25)/2"
   ]
  },
  {
   "cell_type": "code",
   "execution_count": null,
   "metadata": {},
   "outputs": [],
   "source": [
    "Which method gives the most accurate estimation?"
   ]
  },
  {
   "cell_type": "code",
   "execution_count": null,
   "metadata": {},
   "outputs": [],
   "source": [
    "Tr - Texact"
   ]
  },
  {
   "cell_type": "code",
   "execution_count": null,
   "metadata": {},
   "outputs": [],
   "source": [
    "Ts - Texact"
   ]
  },
  {
   "cell_type": "code",
   "execution_count": null,
   "metadata": {},
   "outputs": [],
   "source": [
    "abs(Tr - Texact) < abs(Ts - Texact)"
   ]
  },
  {
   "cell_type": "markdown",
   "metadata": {},
   "source": [
    "Why does the divide and conquer method have greater accuracy? It's because the divide and conquer method does a pairwise sum, and the pairwise sum generally has lower rounding error than a serial sum.\n",
    "\n",
    "\n",
    "Here is an adaptive trapezoidal rule function. "
   ]
  },
  {
   "cell_type": "code",
   "execution_count": null,
   "metadata": {},
   "outputs": [],
   "source": [
    "\"\"\"\n",
    "    Trapezoidial_adaptive(f::Function, a::Number, b::Number, maxError::Number,maxLength::Number)\n",
    "\n",
    "Use and adaptive trapezoidal rule for `integrate(f(x),x,a,b)`. The method attempts to return a value\n",
    "whose error is less than `maxError`. The largest step size is `maxLength`\n",
    "\"\"\"\n",
    "function trapezoidal_adaptive(f::Function, a::Number, b::Number, max_error::Number, max_length::Number)\n",
    "    n = convert(Int, ceil((b-a)/max_length))\n",
    "    i1 = trapezoidal(f,a,b,n)\n",
    "    i2 = trapezoidal(f,a,b,2*n)\n",
    "    e =  abs(4*(i2 - i1)/3)\n",
    "    if e < max_error\n",
    "        (4*i2 - i1)/3\n",
    "    else\n",
    "        mid = (a+b)//2\n",
    "        trapezoidal_adaptive(f,a,mid, max_error/2, max_length) + trapezoidal_adaptive(f,mid, b,max_error/2, max_length) \n",
    "    end \n",
    "end"
   ]
  },
  {
   "cell_type": "markdown",
   "metadata": {},
   "source": [
    "Our code is inefficient--there is redundancy in computing both `trapezoidal(f,a,b,n)` and `trapezoidal(f,a,b,2n)`. Maybe you all can fix that."
   ]
  },
  {
   "cell_type": "code",
   "execution_count": null,
   "metadata": {},
   "outputs": [],
   "source": [
    " Ta = trapezoidal_adaptive(x -> x*sin(x^2),0,5, 1.0e-10, 0.1)"
   ]
  },
  {
   "cell_type": "code",
   "execution_count": null,
   "metadata": {},
   "outputs": [],
   "source": [
    "Texact - Ta"
   ]
  },
  {
   "cell_type": "markdown",
   "metadata": {},
   "source": [
    "Here is a function that can be problematic for numerical integration. It is very nearly zero everywhere except at a big spike near an endpoint. "
   ]
  },
  {
   "cell_type": "code",
   "execution_count": null,
   "metadata": {},
   "outputs": [],
   "source": [
    "f = x -> 1000001 * x^(1000000)"
   ]
  },
  {
   "cell_type": "markdown",
   "metadata": {},
   "source": [
    "Its graph is misleading"
   ]
  },
  {
   "cell_type": "code",
   "execution_count": null,
   "metadata": {},
   "outputs": [],
   "source": [
    "using Gadfly"
   ]
  },
  {
   "cell_type": "code",
   "execution_count": null,
   "metadata": {},
   "outputs": [],
   "source": [
    "plot(f,0,1)"
   ]
  },
  {
   "cell_type": "code",
   "execution_count": null,
   "metadata": {},
   "outputs": [],
   "source": [
    "trapezoidal(f,0.0,1.0,10^8)"
   ]
  },
  {
   "cell_type": "code",
   "execution_count": null,
   "metadata": {},
   "outputs": [],
   "source": [
    " trapezoidal_adaptive(f,0.0,1.0,1.0e-8,1)"
   ]
  },
  {
   "cell_type": "markdown",
   "metadata": {},
   "source": [
    "Can we do better than the best? If not, we are losers:"
   ]
  },
  {
   "cell_type": "code",
   "execution_count": null,
   "metadata": {},
   "outputs": [],
   "source": [
    "using QuadGK"
   ]
  },
  {
   "cell_type": "code",
   "execution_count": null,
   "metadata": {},
   "outputs": [],
   "source": [
    "quadgk(f, 0, 1, rtol=1.0e-8)"
   ]
  },
  {
   "cell_type": "code",
   "execution_count": null,
   "metadata": {},
   "outputs": [],
   "source": []
  }
 ],
 "metadata": {
  "kernelspec": {
   "display_name": "Julia 1.10.0",
   "language": "julia",
   "name": "julia-1.10"
  },
  "language_info": {
   "file_extension": ".jl",
   "mimetype": "application/julia",
   "name": "julia",
   "version": "1.10.0"
  }
 },
 "nbformat": 4,
 "nbformat_minor": 2
}
